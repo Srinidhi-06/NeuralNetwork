{
  "nbformat": 4,
  "nbformat_minor": 0,
  "metadata": {
    "colab": {
      "provenance": []
    },
    "kernelspec": {
      "name": "python3",
      "display_name": "Python 3"
    },
    "language_info": {
      "name": "python"
    }
  },
  "cells": [
    {
      "cell_type": "code",
      "execution_count": null,
      "metadata": {
        "colab": {
          "base_uri": "https://localhost:8080/"
        },
        "id": "0O-3jyWy8VAY",
        "outputId": "dbfa34c4-5f78-4b9a-ae2b-81452cea0bf2"
      },
      "outputs": [
        {
          "output_type": "stream",
          "name": "stdout",
          "text": [
            "Requirement already satisfied: tensorflow in /usr/local/lib/python3.11/dist-packages (2.18.0)\n",
            "Requirement already satisfied: opencv-python in /usr/local/lib/python3.11/dist-packages (4.11.0.86)\n",
            "Requirement already satisfied: matplotlib in /usr/local/lib/python3.11/dist-packages (3.10.0)\n",
            "Requirement already satisfied: tqdm in /usr/local/lib/python3.11/dist-packages (4.67.1)\n",
            "Requirement already satisfied: absl-py>=1.0.0 in /usr/local/lib/python3.11/dist-packages (from tensorflow) (1.4.0)\n",
            "Requirement already satisfied: astunparse>=1.6.0 in /usr/local/lib/python3.11/dist-packages (from tensorflow) (1.6.3)\n",
            "Requirement already satisfied: flatbuffers>=24.3.25 in /usr/local/lib/python3.11/dist-packages (from tensorflow) (25.2.10)\n",
            "Requirement already satisfied: gast!=0.5.0,!=0.5.1,!=0.5.2,>=0.2.1 in /usr/local/lib/python3.11/dist-packages (from tensorflow) (0.6.0)\n",
            "Requirement already satisfied: google-pasta>=0.1.1 in /usr/local/lib/python3.11/dist-packages (from tensorflow) (0.2.0)\n",
            "Requirement already satisfied: libclang>=13.0.0 in /usr/local/lib/python3.11/dist-packages (from tensorflow) (18.1.1)\n",
            "Requirement already satisfied: opt-einsum>=2.3.2 in /usr/local/lib/python3.11/dist-packages (from tensorflow) (3.4.0)\n",
            "Requirement already satisfied: packaging in /usr/local/lib/python3.11/dist-packages (from tensorflow) (24.2)\n",
            "Requirement already satisfied: protobuf!=4.21.0,!=4.21.1,!=4.21.2,!=4.21.3,!=4.21.4,!=4.21.5,<6.0.0dev,>=3.20.3 in /usr/local/lib/python3.11/dist-packages (from tensorflow) (5.29.3)\n",
            "Requirement already satisfied: requests<3,>=2.21.0 in /usr/local/lib/python3.11/dist-packages (from tensorflow) (2.32.3)\n",
            "Requirement already satisfied: setuptools in /usr/local/lib/python3.11/dist-packages (from tensorflow) (75.1.0)\n",
            "Requirement already satisfied: six>=1.12.0 in /usr/local/lib/python3.11/dist-packages (from tensorflow) (1.17.0)\n",
            "Requirement already satisfied: termcolor>=1.1.0 in /usr/local/lib/python3.11/dist-packages (from tensorflow) (2.5.0)\n",
            "Requirement already satisfied: typing-extensions>=3.6.6 in /usr/local/lib/python3.11/dist-packages (from tensorflow) (4.12.2)\n",
            "Requirement already satisfied: wrapt>=1.11.0 in /usr/local/lib/python3.11/dist-packages (from tensorflow) (1.17.2)\n",
            "Requirement already satisfied: grpcio<2.0,>=1.24.3 in /usr/local/lib/python3.11/dist-packages (from tensorflow) (1.71.0)\n",
            "Requirement already satisfied: tensorboard<2.19,>=2.18 in /usr/local/lib/python3.11/dist-packages (from tensorflow) (2.18.0)\n",
            "Requirement already satisfied: keras>=3.5.0 in /usr/local/lib/python3.11/dist-packages (from tensorflow) (3.8.0)\n",
            "Requirement already satisfied: numpy<2.1.0,>=1.26.0 in /usr/local/lib/python3.11/dist-packages (from tensorflow) (2.0.2)\n",
            "Requirement already satisfied: h5py>=3.11.0 in /usr/local/lib/python3.11/dist-packages (from tensorflow) (3.13.0)\n",
            "Requirement already satisfied: ml-dtypes<0.5.0,>=0.4.0 in /usr/local/lib/python3.11/dist-packages (from tensorflow) (0.4.1)\n",
            "Requirement already satisfied: tensorflow-io-gcs-filesystem>=0.23.1 in /usr/local/lib/python3.11/dist-packages (from tensorflow) (0.37.1)\n",
            "Requirement already satisfied: contourpy>=1.0.1 in /usr/local/lib/python3.11/dist-packages (from matplotlib) (1.3.1)\n",
            "Requirement already satisfied: cycler>=0.10 in /usr/local/lib/python3.11/dist-packages (from matplotlib) (0.12.1)\n",
            "Requirement already satisfied: fonttools>=4.22.0 in /usr/local/lib/python3.11/dist-packages (from matplotlib) (4.56.0)\n",
            "Requirement already satisfied: kiwisolver>=1.3.1 in /usr/local/lib/python3.11/dist-packages (from matplotlib) (1.4.8)\n",
            "Requirement already satisfied: pillow>=8 in /usr/local/lib/python3.11/dist-packages (from matplotlib) (11.1.0)\n",
            "Requirement already satisfied: pyparsing>=2.3.1 in /usr/local/lib/python3.11/dist-packages (from matplotlib) (3.2.1)\n",
            "Requirement already satisfied: python-dateutil>=2.7 in /usr/local/lib/python3.11/dist-packages (from matplotlib) (2.8.2)\n",
            "Requirement already satisfied: wheel<1.0,>=0.23.0 in /usr/local/lib/python3.11/dist-packages (from astunparse>=1.6.0->tensorflow) (0.45.1)\n",
            "Requirement already satisfied: rich in /usr/local/lib/python3.11/dist-packages (from keras>=3.5.0->tensorflow) (13.9.4)\n",
            "Requirement already satisfied: namex in /usr/local/lib/python3.11/dist-packages (from keras>=3.5.0->tensorflow) (0.0.8)\n",
            "Requirement already satisfied: optree in /usr/local/lib/python3.11/dist-packages (from keras>=3.5.0->tensorflow) (0.14.1)\n",
            "Requirement already satisfied: charset-normalizer<4,>=2 in /usr/local/lib/python3.11/dist-packages (from requests<3,>=2.21.0->tensorflow) (3.4.1)\n",
            "Requirement already satisfied: idna<4,>=2.5 in /usr/local/lib/python3.11/dist-packages (from requests<3,>=2.21.0->tensorflow) (3.10)\n",
            "Requirement already satisfied: urllib3<3,>=1.21.1 in /usr/local/lib/python3.11/dist-packages (from requests<3,>=2.21.0->tensorflow) (2.3.0)\n",
            "Requirement already satisfied: certifi>=2017.4.17 in /usr/local/lib/python3.11/dist-packages (from requests<3,>=2.21.0->tensorflow) (2025.1.31)\n",
            "Requirement already satisfied: markdown>=2.6.8 in /usr/local/lib/python3.11/dist-packages (from tensorboard<2.19,>=2.18->tensorflow) (3.7)\n",
            "Requirement already satisfied: tensorboard-data-server<0.8.0,>=0.7.0 in /usr/local/lib/python3.11/dist-packages (from tensorboard<2.19,>=2.18->tensorflow) (0.7.2)\n",
            "Requirement already satisfied: werkzeug>=1.0.1 in /usr/local/lib/python3.11/dist-packages (from tensorboard<2.19,>=2.18->tensorflow) (3.1.3)\n",
            "Requirement already satisfied: MarkupSafe>=2.1.1 in /usr/local/lib/python3.11/dist-packages (from werkzeug>=1.0.1->tensorboard<2.19,>=2.18->tensorflow) (3.0.2)\n",
            "Requirement already satisfied: markdown-it-py>=2.2.0 in /usr/local/lib/python3.11/dist-packages (from rich->keras>=3.5.0->tensorflow) (3.0.0)\n",
            "Requirement already satisfied: pygments<3.0.0,>=2.13.0 in /usr/local/lib/python3.11/dist-packages (from rich->keras>=3.5.0->tensorflow) (2.18.0)\n",
            "Requirement already satisfied: mdurl~=0.1 in /usr/local/lib/python3.11/dist-packages (from markdown-it-py>=2.2.0->rich->keras>=3.5.0->tensorflow) (0.1.2)\n"
          ]
        }
      ],
      "source": [
        "# Install missing dependencies (if needed)\n",
        "!pip install tensorflow opencv-python matplotlib tqdm\n",
        "\n",
        "# Import libraries\n",
        "import os\n",
        "import cv2\n",
        "import numpy as np\n",
        "import matplotlib.pyplot as plt\n",
        "from tqdm import tqdm\n",
        "from tensorflow.keras.utils import to_categorical\n",
        "from tensorflow.keras.preprocessing.image import ImageDataGenerator\n",
        "from tensorflow.keras.models import Sequential\n",
        "from tensorflow.keras.layers import Conv2D, MaxPooling2D, Flatten, Dense, Dropout\n",
        "from tensorflow.keras import regularizers\n",
        "from tensorflow.keras.callbacks import EarlyStopping\n"
      ]
    },
    {
      "cell_type": "code",
      "source": [
        "# Dataset Path\n",
        "DATASET_PATH = \"/content/drive/MyDrive/criminal_dataset\"\n",
        "\n",
        "# Define image size\n",
        "IMG_SIZE = (64, 64)\n",
        "\n",
        "# Get class names from dataset folder structure\n",
        "CATEGORIES = os.listdir(DATASET_PATH)\n",
        "\n",
        "def load_images(dataset_path, categories, img_size):\n",
        "    data = []\n",
        "    labels = []\n",
        "\n",
        "    for category in categories:\n",
        "        path = os.path.join(dataset_path, category)\n",
        "        class_index = categories.index(category)\n",
        "\n",
        "        for img in tqdm(os.listdir(path)):\n",
        "            try:\n",
        "                img_array = cv2.imread(os.path.join(path, img))\n",
        "                img_array = cv2.cvtColor(img_array, cv2.COLOR_BGR2RGB)  # Convert to RGB\n",
        "                img_array = cv2.resize(img_array, img_size)  # Resize to 64x64\n",
        "                data.append(img_array)\n",
        "                labels.append(class_index)\n",
        "            except Exception as e:\n",
        "                print(f\"Error loading image {img}: {e}\")\n",
        "\n",
        "    return np.array(data), np.array(labels)\n",
        "\n",
        "# Load images from the dataset\n",
        "X, y = load_images(DATASET_PATH, CATEGORIES, IMG_SIZE)\n",
        "\n",
        "# Normalize images (scale pixel values between 0 and 1)\n",
        "X = X / 255.0\n",
        "\n",
        "# Convert labels to categorical (One-hot encoding)\n",
        "y = to_categorical(y, len(CATEGORIES))\n",
        "\n",
        "print(f\"Dataset Loaded: {X.shape[0]} images, {len(CATEGORIES)} classes.\")\n"
      ],
      "metadata": {
        "colab": {
          "base_uri": "https://localhost:8080/",
          "height": 211
        },
        "id": "1m0wqmyt9H1a",
        "outputId": "3bd3c224-85a4-43c0-9402-313f49365ec7"
      },
      "execution_count": null,
      "outputs": [
        {
          "output_type": "error",
          "ename": "FileNotFoundError",
          "evalue": "[Errno 2] No such file or directory: '/content/drive/MyDrive/criminal_dataset'",
          "traceback": [
            "\u001b[0;31m---------------------------------------------------------------------------\u001b[0m",
            "\u001b[0;31mFileNotFoundError\u001b[0m                         Traceback (most recent call last)",
            "\u001b[0;32m<ipython-input-3-0547ed1e39d0>\u001b[0m in \u001b[0;36m<cell line: 0>\u001b[0;34m()\u001b[0m\n\u001b[1;32m      6\u001b[0m \u001b[0;34m\u001b[0m\u001b[0m\n\u001b[1;32m      7\u001b[0m \u001b[0;31m# Get class names from dataset folder structure\u001b[0m\u001b[0;34m\u001b[0m\u001b[0;34m\u001b[0m\u001b[0m\n\u001b[0;32m----> 8\u001b[0;31m \u001b[0mCATEGORIES\u001b[0m \u001b[0;34m=\u001b[0m \u001b[0mos\u001b[0m\u001b[0;34m.\u001b[0m\u001b[0mlistdir\u001b[0m\u001b[0;34m(\u001b[0m\u001b[0mDATASET_PATH\u001b[0m\u001b[0;34m)\u001b[0m\u001b[0;34m\u001b[0m\u001b[0;34m\u001b[0m\u001b[0m\n\u001b[0m\u001b[1;32m      9\u001b[0m \u001b[0;34m\u001b[0m\u001b[0m\n\u001b[1;32m     10\u001b[0m \u001b[0;32mdef\u001b[0m \u001b[0mload_images\u001b[0m\u001b[0;34m(\u001b[0m\u001b[0mdataset_path\u001b[0m\u001b[0;34m,\u001b[0m \u001b[0mcategories\u001b[0m\u001b[0;34m,\u001b[0m \u001b[0mimg_size\u001b[0m\u001b[0;34m)\u001b[0m\u001b[0;34m:\u001b[0m\u001b[0;34m\u001b[0m\u001b[0;34m\u001b[0m\u001b[0m\n",
            "\u001b[0;31mFileNotFoundError\u001b[0m: [Errno 2] No such file or directory: '/content/drive/MyDrive/criminal_dataset'"
          ]
        }
      ]
    },
    {
      "cell_type": "code",
      "source": [
        "from google.colab import drive\n",
        "drive.mount('/content/drive')\n"
      ],
      "metadata": {
        "colab": {
          "base_uri": "https://localhost:8080/"
        },
        "id": "yF29IScV9vAL",
        "outputId": "1e6f08c9-59d4-439e-d1af-92fd8093a656"
      },
      "execution_count": null,
      "outputs": [
        {
          "output_type": "stream",
          "name": "stdout",
          "text": [
            "Mounted at /content/drive\n"
          ]
        }
      ]
    },
    {
      "cell_type": "code",
      "source": [
        "import os\n",
        "print(os.listdir(\"/content/drive/MyDrive\"))\n"
      ],
      "metadata": {
        "colab": {
          "base_uri": "https://localhost:8080/"
        },
        "id": "C6Wbms_79_Yz",
        "outputId": "fa2e09c9-a9b8-4e05-91bf-c44379025300"
      },
      "execution_count": null,
      "outputs": [
        {
          "output_type": "stream",
          "name": "stdout",
          "text": [
            "['Chapter 1.gslides', 'Colab Notebooks', 'criminal_dataset', 'processed_blur', 'processed_edge', 'side_profile', 'Sharpened_Images', 'Blurred_Images', 'processed_images', 'face_classification_model.h5']\n"
          ]
        }
      ]
    },
    {
      "cell_type": "code",
      "source": [
        "DATASET_PATH = \"/correct/path/to/criminal_dataset\"\n"
      ],
      "metadata": {
        "id": "NiiVpHdz-EtA"
      },
      "execution_count": null,
      "outputs": []
    },
    {
      "cell_type": "code",
      "source": [
        "import os\n",
        "\n",
        "DATASET_PATH = \"/content/drive/MyDrive/criminal_dataset\"\n",
        "print(os.listdir(DATASET_PATH))\n"
      ],
      "metadata": {
        "colab": {
          "base_uri": "https://localhost:8080/"
        },
        "id": "d97ndkxL-RCG",
        "outputId": "432d393a-f625-4e4f-c3ba-2751fdb8e47c"
      },
      "execution_count": null,
      "outputs": [
        {
          "output_type": "stream",
          "name": "stdout",
          "text": [
            "['B02982.jpg', 'B03062.jpg', 'B03019.jpg', 'B02991.jpg', 'B03005.jpg', 'B02997.jpg', 'B03040.jpg', 'B03004.jpg', 'B03054.jpg', 'B03023.jpg', 'B02995.jpg', 'B03164.jpg', 'B03141.jpg', 'B03120.jpg', 'B03174.jpg', 'B03084.jpg', 'B03069.jpg', 'B03101.jpg', 'B03158.jpg', 'B03186.jpg', 'B03118.jpg', 'B03066.jpg', 'B03191.jpg', 'B03234.jpg', 'B03208.jpg', 'B03244.jpg', 'B03278.jpg', 'B03296.jpg', 'B03292.jpg', 'B03299.jpg', 'B03254.jpg', 'B03340.jpg', 'B03368.jpg', 'B03336.jpg', 'B03314.jpg', 'B03327.jpg', 'B03301.jpg', 'B03386.jpg', 'B03303.jpg', 'B03381.jpg', 'B03363.jpg', 'B03335.jpg', 'B03378.jpg', 'B03541.jpg', 'B03462.jpg', 'B03495.jpg', 'B03436.jpg', 'B03392.jpg', 'B03390.jpg', 'B03401.jpg', 'B03524.jpg', 'B03536.jpg', 'B03414.jpg', 'B03501.jpg', 'B03439.jpg', 'B03490.jpg', 'B03459.jpg', 'B03547.jpg', 'B03438.jpg', 'B03593.jpg', 'B03567.jpg', 'B03620.jpg', 'B03708.jpg', 'B03596.jpg', 'B03678.jpg', 'B03674.jpg', 'B03705.jpg', 'B03643.jpg', 'B03627.jpg', 'B03577.jpg', 'B03557.jpg', 'B03660.jpg', 'B03746.jpg', 'B03803.jpg', 'B03855.jpg', 'B03709.jpg', 'B03777.jpg', 'B03785.jpg', 'B03774.jpg', 'B03795.jpg', 'B03852.jpg', 'B03813.jpg', 'B03738.jpg', 'B03717.jpg', 'B03861.jpg', 'B03958.jpg', 'B03871.jpg', 'B03898.jpg', 'B03955.jpg', 'B03901.jpg', 'B03903.jpg', 'B03945.jpg', 'B03979.jpg', 'B03870.jpg', 'B03983.jpg', 'B04091.jpg', 'B04170.jpg', 'B04115.jpg', 'B04111.jpg', 'B04161.jpg', 'B04031.jpg', 'B04117.jpg', 'B04099.jpg', 'B04085.jpg', 'B04092.jpg', 'B04093.jpg', 'B04073.jpg', 'B04150.jpg', 'B04025.jpg', 'B04130.jpg', 'B04165.jpg', 'B04101.jpg', 'B04133.jpg', 'B04248.jpg', 'B04213.jpg', 'B04246.jpg', 'B04245.jpg', 'B04228.jpg', 'B04174.jpg', 'B04217.jpg', 'B04264.jpg', 'B04227.jpg', 'B04239.jpg', 'B04223.jpg', 'B04318.jpg', 'B04428.jpg', 'B04285.jpg', 'B04322.jpg', 'B04339.jpg', 'B04332.jpg', 'B04303.jpg', 'B04287.jpg', 'B04373.jpg', 'B04488.jpg', 'B04511.jpg', 'B04510.jpg', 'B04489.jpg', 'B04516.jpg', 'B04439.jpg', 'B04505.jpg', 'B04522.jpg', 'B04495.jpg', 'B04496.jpg', 'B04540.jpg', 'B04557.jpg', 'B04535.jpg', 'B04619.jpg', 'B04694.jpg', 'B04701.jpg', 'B04692.jpg', 'B04674.jpg', 'B04615.jpg', 'B04573.jpg', 'B04680.jpg', 'B04630.jpg', 'B04661.jpg', 'B04709.jpg', 'B04807.jpg', 'B04786.jpg', 'B04782.jpg', 'B04717.jpg', 'B04832.jpg', 'B04763.jpg', 'B04843.jpg', 'B04833.jpg', 'B04734.jpg', 'B04824.jpg', 'B04800.jpg', 'B04792.jpg', 'B05036.jpg', 'B04918.jpg', 'B04938.jpg', 'B05009.jpg', 'B04901.jpg', 'B04922.jpg', 'B04962.jpg', 'B04997.jpg', 'B05021.jpg', 'B04930.jpg', 'B04875.jpg', 'B05064.jpg', 'B05060.jpg', 'B05150.jpg', 'B05048.jpg', 'B05093.jpg', 'B05049.jpg', 'B05152.jpg', 'B05119.jpg', 'B05040.jpg', 'B05063.jpg', 'B05071.jpg', 'B05085.jpg', 'B05091.jpg', 'B05245.jpg', 'B05177.jpg', 'B05324.jpg', 'B05308.jpg', 'B05326.jpg', 'B05205.jpg', 'B05312.jpg', 'B05310.jpg', 'B05171.jpg', 'B05159.jpg', 'B05270.jpg', 'B05228.jpg', 'B05193.jpg', 'B05461.jpg', 'B05344.jpg', 'B05407.jpg', 'B05434.jpg', 'B05372.jpg', 'B05403.jpg', 'B05454.jpg', 'B05398.jpg', 'B05438.jpg', 'B05376.jpg', 'B05447.jpg', 'B05354.jpg', 'B05409.jpg', 'B05490.jpg', 'B05480.jpg', 'B05484.jpg', 'B05466.jpg', 'B05479.jpg', 'B05489.jpg', 'B05518.jpg', 'B05462.jpg', 'B05714.jpg', 'B05640.jpg', 'B05634.jpg', 'B05548.jpg', 'B05713.jpg', 'B05739.jpg', 'B05741.jpg', 'B05589.jpg', 'B05622.jpg', 'B05642.jpg', 'B05720.jpg', 'B05625.jpg', 'B05847.jpg', 'B05839.jpg', 'B05863.jpg', 'B05770.jpg', 'B05867.jpg', 'B05771.jpg', 'B05914.jpg', 'B05804.jpg', 'B05898.jpg', 'B05780.jpg', 'B05853.jpg', 'B05757.jpg', 'B05820.jpg', 'B05807.jpg', 'B05850.jpg', 'B05803.jpg', 'B05916.jpg', 'B05975.jpg', 'B05929.jpg', 'B05972.jpg', 'B06081.jpg', 'B05930.jpg', 'B05967.jpg', 'B05984.jpg', 'B06063.jpg', 'B06077.jpg', 'B06030.jpg', 'B05921.jpg', 'B05973.jpg', 'B06028.jpg', 'B06276.jpg', 'B06233.jpg', 'B06088.jpg', 'B06156.jpg', 'B06226.jpg', 'B06111.jpg', 'B06168.jpg', 'B06153.jpg', 'B06101.jpg', 'B06280.jpg', 'B06211.jpg', 'B06137.jpg', 'B06263.jpg', 'B06365.jpg', 'B06348.jpg', 'B06304.jpg', 'B06335.jpg', 'B06285.jpg', 'B06428.jpg', 'B06282.jpg', 'B06408.jpg', 'B06439.jpg', 'B06493.jpg', 'B06517.jpg', 'B06519.jpg', 'B06457.jpg', 'B06432.jpg', 'B06442.jpg', 'B06515.jpg', 'B06516.jpg', 'B06520.jpg', 'B06569.jpg', 'B06688.jpg', 'B06645.jpg', 'B06598.jpg', 'B06603.jpg', 'B06691.jpg', 'B06568.jpg', 'B06567.jpg', 'B06547.jpg', 'B06686.jpg', 'B06532.jpg', 'B06685.jpg', 'B06609.jpg', 'B06855.jpg', 'B06791.jpg', 'B06732.jpg', 'B06876.jpg', 'B06715.jpg', 'B06872.jpg', 'B06856.jpg', 'B06920.jpg', 'B06701.jpg', 'B06908.jpg', 'B06858.jpg', 'B06863.jpg', 'B06748.jpg', 'B06927.jpg', 'B06712.jpg', 'B06989.jpg', 'B06984.jpg', 'B06938.jpg', 'B07090.jpg', 'B07222.jpg', 'B07357.jpg', 'B07074.jpg', 'B07042.jpg', 'B06996.jpg', 'B06936.jpg', 'B07221.jpg', 'B06999.jpg', 'B06973.jpg', 'B07040.jpg', 'B07156.jpg', 'B07136.jpg', 'B07396.jpg', 'B07469.jpg', 'B07813.jpg', 'B07722.jpg', 'B07491.jpg', 'B07828.jpg', 'B07572.jpg', 'B07518.jpg', 'B07795.jpg', 'B07817.jpg', 'B07424.jpg', 'B07539.jpg', 'B07605.jpg', 'B07663.jpg', 'B07376.jpg', 'B07694.jpg', 'B07449.jpg', 'B07934.jpg', 'B07932.jpg', 'B07834.jpg', 'B07982.jpg', 'B07897.jpg', 'B07990.jpg', 'B07907.jpg', 'B07870.jpg', 'B07923.jpg', 'B07921.jpg', 'B07829.jpg', 'B07931.jpg', 'B07944.jpg', 'B07838.jpg', 'B07963.jpg', 'B08150.jpg', 'B08025.jpg', 'B08092.jpg', 'B08118.jpg', 'B08167.jpg', 'B08119.jpg', 'B08065.jpg', 'B08082.jpg', 'B08156.jpg', 'B08144.jpg', 'B08105.jpg', 'B08078.jpg', 'B08093.jpg', 'B08004.jpg', 'B08244.jpg', 'B08178.jpg', 'B08224.jpg', 'B08226.jpg', 'B08176.jpg', 'B08196.jpg', 'B08181.jpg', 'B08240.jpg', 'B08218.jpg', 'B08252.jpg', 'B08236.jpg', 'B08183.jpg', 'B08169.jpg', 'B08285.jpg', 'B08296.jpg', 'B08377.jpg', 'B08422.jpg', 'B08371.jpg', 'B08373.jpg', 'B08486.jpg', 'B08290.jpg', 'B08406.jpg', 'B08327.jpg', 'B08351.jpg', 'B08450.jpg', 'B08414.jpg', 'B08325.jpg', 'B08635.jpg', 'B08542.jpg', 'B08565.jpg', 'B08638.jpg', 'B08685.jpg', 'B08636.jpg', 'B08703.jpg', 'B08544.jpg', 'B08681.jpg', 'B08589.jpg', 'B08628.jpg', 'B08572.jpg', 'B08699.jpg', 'B08687.jpg', 'B08694.jpg', 'B08711.jpg', 'B09045.jpg', 'B09047.jpg', 'B08733.jpg', 'B08948.jpg', 'B09055.jpg', 'B08860.jpg', 'B08834.jpg', 'B09032.jpg', 'B09025.jpg', 'B08705.jpg', 'B08746.jpg', 'B08725.jpg', 'B08889.jpg', 'B08857.jpg', 'B08983.jpg', 'B09152.jpg', 'B09190.jpg', 'B09153.jpg', 'B09089.jpg', 'B09189.jpg', 'B09249.jpg', 'B09138.jpg', 'B09257.jpg', 'B09259.jpg', 'B09159.jpg', 'B09233.jpg', 'B09104.jpg', 'B09162.jpg', 'B09140.jpg', 'B09057.jpg', 'B09213.jpg', 'B09232.jpg', 'B09085.jpg', 'B09218.jpg', 'B09357.jpg', 'B09461.jpg', 'B09385.jpg', 'B09416.jpg', 'B09425.jpg', 'B09406.jpg', 'B09262.jpg', 'B09426.jpg', 'B09409.jpg', 'B09308.jpg', 'B09412.jpg', 'B09370.jpg', 'B09271.jpg', 'B09628.jpg', 'B09596.jpg', 'B09602.jpg', 'B09504.jpg', 'B09522.jpg', 'B09556.jpg', 'B09511.jpg', 'B09609.jpg', 'B09533.jpg', 'B09591.jpg', 'B09564.jpg', 'B09497.jpg', 'B09623.jpg', 'B09593.jpg', 'B09513.jpg', 'B09559.jpg', 'B09562.jpg', 'B09706.jpg', 'B09705.jpg', 'B09666.jpg', 'B09702.jpg', 'B09768.jpg', 'B09728.jpg', 'B09641.jpg', 'B09674.jpg', 'B09673.jpg', 'B09724.jpg', 'B09758.jpg', 'B09729.jpg', 'B09760.jpg', 'B09759.jpg', 'B09664.jpg', 'B09638.jpg', 'B09671.jpg', 'B09787.jpg', 'B09780.jpg', 'B09907.jpg', 'B09807.jpg', 'B09786.jpg', 'B09968.jpg', 'B09791.jpg', 'B09901.jpg', 'B09800.jpg', 'B09969.jpg', 'B09899.jpg', 'B09953.jpg', 'B09803.jpg', 'B09769.jpg', 'B09840.jpg', 'B09972.jpg', 'B10113.jpg', 'B10112.jpg', 'B10039.jpg', 'B10078.jpg', 'B10013.jpg', 'B10110.jpg', 'B10093.jpg', 'B10092.jpg', 'B10173.jpg', 'B10050.jpg', 'B10120.jpg', 'B10047.jpg', 'B10072.jpg', 'B10198.jpg', 'B10321.jpg', 'B10233.jpg', 'B10277.jpg', 'B10286.jpg', 'B10227.jpg', 'B10216.jpg', 'B10285.jpg', 'B10193.jpg', 'B10264.jpg', 'B10224.jpg', 'B10241.jpg', 'B10386.jpg', 'B10448.jpg', 'B10491.jpg', 'B10322.jpg', 'B10377.jpg', 'B10513.jpg', 'B10350.jpg', 'B10469.jpg', 'B10342.jpg', 'B10457.jpg', 'B10360.jpg', 'B10495.jpg', 'B10567.jpg', 'B10590.jpg', 'B10587.jpg', 'B10562.jpg', 'B10557.jpg', 'B10620.jpg', 'B10551.jpg', 'B10548.jpg', 'B10554.jpg', 'B10536.jpg', 'B10618.jpg', 'B10582.jpg', 'B10559.jpg', 'B10701.jpg', 'B10625.jpg', 'B10658.jpg', 'B10662.jpg', 'B10676.jpg', 'B10665.jpg', 'B10645.jpg', 'B10702.jpg', 'B10636.jpg', 'B10667.jpg', 'B10630.jpg', 'B10873.jpg', 'B10752.jpg', 'B10787.jpg', 'B10860.jpg', 'B10777.jpg', 'B10706.jpg', 'B10884.jpg', 'B10707.jpg', 'B10793.jpg', 'B10807.jpg', 'B10897.jpg', 'B10797.jpg', 'B10821.jpg', 'B10870.jpg', 'B10905.jpg', 'B10738.jpg', 'B11100.jpg', 'B10924.jpg', 'B11029.jpg', 'B10917.jpg', 'B11058.jpg', 'B11110.jpg', 'B11070.jpg', 'B11032.jpg', 'B11053.jpg', 'B11063.jpg', 'B10986.jpg', 'B11062.jpg', 'B11024.jpg', 'B11021.jpg', 'B10943.jpg', 'B11041.jpg', 'B11082.jpg', 'B10961.jpg', 'B10968.jpg', 'B11373.jpg', 'B11192.jpg', 'B11321.jpg', 'B11178.jpg', 'B11194.jpg', 'B11167.jpg', 'B11190.jpg', 'B11329.jpg', 'B11288.jpg', 'B11355.jpg', 'B11170.jpg', 'B11240.jpg', 'B11367.jpg', 'B11292.jpg', 'B11123.jpg', 'B11150.jpg', 'B11148.jpg', 'B11359.jpg', 'B11360.jpg', 'B11396.jpg', 'B11400.jpg', 'B11475.jpg', 'B11393.jpg', 'B11510.jpg', 'B11488.jpg', 'B11490.jpg', 'B11536.jpg', 'B11484.jpg', 'B11479.jpg', 'B11535.jpg', 'B11505.jpg', 'B11449.jpg', 'B11386.jpg', 'B11390.jpg', 'B11408.jpg', 'B11456.jpg', 'B11541.jpg', 'B11487.jpg', 'B11661.jpg', 'B11663.jpg', 'B11677.jpg', 'B11568.jpg', 'B11567.jpg', 'B11674.jpg', 'B11561.jpg', 'B11576.jpg', 'B11711.jpg', 'B11641.jpg', 'B11629.jpg', 'B11647.jpg', 'B11702.jpg', 'B11569.jpg', 'B11596.jpg', 'B11591.jpg', 'B12010.jpg', 'B12013.jpg', 'B11956.jpg', 'B12022.jpg', 'B11999.jpg', 'B12027.jpg', 'B11772.jpg', 'B11750.jpg', 'B11855.jpg', 'B11975.jpg', 'B11744.jpg', 'B11911.jpg', 'B11879.jpg', 'B12029.jpg', 'B11929.jpg', 'B11823.jpg', 'B11846.jpg', 'B11728.jpg', 'B11865.jpg', 'B11712.jpg', 'B12116.jpg', 'B12101.jpg', 'B12089.jpg', 'B12099.jpg', 'B12069.jpg', 'B12065.jpg', 'B12149.jpg', 'B12139.jpg', 'B12143.jpg', 'B12067.jpg', 'B12110.jpg', 'B12048.jpg', 'B12125.jpg', 'B12106.jpg', 'B12095.jpg', 'B12117.jpg', 'B12150.jpg', 'B12360.jpg', 'B12346.jpg', 'B12259.jpg', 'B12357.jpg', 'B12273.jpg', 'B12315.jpg', 'B12358.jpg', 'B12292.jpg', 'B12333.jpg', 'B12151.jpg', 'B12204.jpg', 'B12325.jpg', 'B12266.jpg', 'B12352.jpg', 'B12317.jpg', 'B12252.jpg', 'B12254.jpg', 'B12406.jpg', 'B12524.jpg', 'B12504.jpg', 'B12544.jpg', 'B12439.jpg', 'B12457.jpg', 'B12511.jpg', 'B12362.jpg', 'B12412.jpg', 'B12443.jpg', 'B12561.jpg', 'B12394.jpg', 'B12453.jpg', 'B12534.jpg', 'B12560.jpg', 'B12407.jpg', 'B12382.jpg', 'B12553.jpg', 'B12442.jpg', 'B12396.jpg', 'B12641.jpg', 'B12719.jpg', 'B12686.jpg', 'B12649.jpg', 'B12699.jpg', 'B12654.jpg', 'B12749.jpg', 'B12594.jpg', 'B12703.jpg', 'B12696.jpg', 'B12692.jpg', 'B12683.jpg', 'B12578.jpg', 'B12701.jpg', 'B12744.jpg', 'B12577.jpg', 'B12689.jpg', 'B12737.jpg', 'B12726.jpg', 'B12827.jpg', 'B12804.jpg', 'B12862.jpg', 'B12851.jpg', 'B12838.jpg', 'B12775.jpg', 'B12871.jpg', 'B12791.jpg', 'B12832.jpg', 'B12859.jpg', 'B12880.jpg', 'B12894.jpg', 'B12881.jpg', 'B12937.jpg', 'B12918.jpg', 'B12929.jpg', 'B12965.jpg', 'B12900.jpg', 'B12914.jpg', 'B12938.jpg', 'B13063.jpg', 'B13111.jpg', 'B13087.jpg', 'B13010.jpg', 'B12968.jpg', 'B13133.jpg', 'B13049.jpg', 'B13078.jpg', 'B13041.jpg', 'B13108.jpg', 'B12972.jpg', 'B12982.jpg', 'B13227.jpg', 'B13162.jpg', 'B13142.jpg', 'B13244.jpg', 'B13241.jpg', 'B13181.jpg', 'B13172.jpg', 'B13234.jpg', 'B13252.jpg', 'B13253.jpg', 'B13159.jpg', 'B13148.jpg', 'B13199.jpg', 'B13161.jpg', 'B13365.jpg', 'B13418.jpg', 'B13440.jpg', 'B13308.jpg', 'B13466.jpg', 'B13414.jpg', 'B13316.jpg', 'B13471.jpg', 'B13472.jpg', 'B13301.jpg', 'B13277.jpg', 'B13290.jpg', 'B13254.jpg', 'B13502.jpg', 'B13487.jpg', 'B13571.jpg', 'B13639.jpg', 'B13486.jpg', 'B13596.jpg', 'B13485.jpg', 'B13493.jpg', 'B13522.jpg', 'B13614.jpg', 'B13669.jpg', 'B13618.jpg', 'B13509.jpg', 'B13698.jpg', 'B13817.jpg', 'B13785.jpg', 'B13775.jpg', 'B13724.jpg', 'B13680.jpg', 'B13770.jpg', 'B13779.jpg', 'B13674.jpg', 'B13733.jpg', 'B13801.jpg', 'B13803.jpg', 'B13761.jpg', 'B13885.jpg', 'B13894.jpg', 'B13862.jpg', 'B13898.jpg', 'B13839.jpg', 'B13848.jpg', 'B13915.jpg', 'B13888.jpg', 'B13882.jpg', 'B13851.jpg', 'B13832.jpg', 'B13863.jpg', 'B13880.jpg', 'B13884.jpg', 'B14059.jpg', 'B14030.jpg', 'B13958.jpg', 'B13965.jpg', 'B13980.jpg', 'B13949.jpg', 'B13975.jpg', 'B13932.jpg', 'B14058.jpg', 'B14057.jpg', 'B13952.jpg', 'B13995.jpg', 'B14128.jpg', 'B14199.jpg', 'B14062.jpg', 'B14138.jpg', 'B14194.jpg', 'B14124.jpg', 'B14101.jpg', 'B14172.jpg', 'B14066.jpg', 'B14074.jpg', 'B14068.jpg', 'B14133.jpg', 'B14187.jpg', 'B14223.jpg', 'B14232.jpg', 'B14255.jpg', 'B14273.jpg', 'B14251.jpg', 'B14275.jpg', 'B14262.jpg', 'B14263.jpg', 'B14235.jpg', 'B14293.jpg', 'B14209.jpg', 'B14370.jpg', 'B14389.jpg', 'B14308.jpg', 'B14464.jpg', 'B14321.jpg', 'B14372.jpg', 'B14481.jpg', 'B14309.jpg', 'B14447.jpg', 'B14371.jpg', 'B14379.jpg', 'B14448.jpg', 'B14373.jpg', 'B14324.jpg', 'B14517.jpg', 'B14500.jpg', 'B14489.jpg', 'B14602.jpg', 'B14556.jpg', 'B14640.jpg', 'B14651.jpg', 'B14533.jpg', 'B14642.jpg', 'B14553.jpg', 'B14490.jpg', 'B14572.jpg', 'B14542.jpg', 'B14509.jpg', 'B14522.jpg', 'B14484.jpg', 'B14617.jpg', 'B14756.jpg', 'B14782.jpg', 'B14689.jpg', 'B14694.jpg', 'B14777.jpg', 'B14727.jpg', 'B14711.jpg', 'B14749.jpg', 'B14698.jpg', 'B14668.jpg', 'B14653.jpg', 'B14931.jpg', 'B14926.jpg', 'B14813.jpg', 'B14799.jpg', 'B14923.jpg', 'B14909.jpg', 'B15028.jpg', 'B14959.jpg', 'B15009.jpg', 'B14885.jpg', 'B15033.jpg', 'B14951.jpg', 'B14873.jpg', 'B15018.jpg', 'B14886.jpg', 'B14883.jpg', 'B15004.jpg', 'B15219.jpg', 'B15112.jpg', 'B15198.jpg', 'B15063.jpg', 'B15204.jpg', 'B15223.jpg', 'B15243.jpg', 'B15257.jpg', 'B15174.jpg', 'B15123.jpg', 'B15122.jpg', 'B15230.jpg', 'B15098.jpg', 'B15129.jpg', 'B15041.jpg', 'B15048.jpg', 'B15140.jpg', 'B15178.jpg', 'B15083.jpg', 'B15197.jpg', 'B15306.jpg', 'B15330.jpg', 'B15308.jpg', 'B15266.jpg', 'B15345.jpg', 'B15341.jpg', 'B15288.jpg', 'B15382.jpg', 'B15349.jpg', 'B15280.jpg', 'B15385.jpg', 'B15383.jpg', 'B15320.jpg', 'A15491.jpg', 'A15657.jpg', 'A15612.jpg', 'A15324.jpg', 'A15561.jpg', 'A15834.jpg', 'A50089.jpg', 'A15810.jpg', 'A50173.jpg', 'A25160.jpg', 'A50013.jpg', 'A15829.jpg', 'A50191.jpg', 'A15776.jpg', 'A15856.jpg', 'A26050.jpg', 'A25193.jpg', 'A20097.jpg', 'A25088.jpg', 'A50207.jpg', 'A20093.jpg', 'A25100.jpg', 'A50119.jpg', 'A25186.jpg', 'A15828.jpg', 'A50005.jpg', 'A25050.jpg', 'A15763.jpg', 'A50955.jpg', 'A50446.jpg', 'A50947.jpg', 'A50676.jpg', 'A50367.jpg', 'A50585.jpg', 'A51082.jpg', 'A50716.jpg', 'A50229.jpg', 'A50844.jpg', 'A50773.jpg', 'A50517.jpg', 'A50669.jpg', 'A51054.jpg', 'A50330.jpg', 'A50779.jpg', 'A50993.jpg', 'A50692.jpg', 'A50321.jpg', 'A50273.jpg', 'A51149.jpg', 'A50324.jpg', 'A56009.jpg', 'A57980.jpg', 'A60096.jpg', 'A56081.jpg', 'A51236.jpg', 'A51378.jpg', 'A60034.jpg', 'A60077.jpg', 'A56106.jpg', 'A57708.jpg', 'A51322.jpg', 'A56136.jpg', 'A51196.jpg', 'A56131.jpg', 'A56059.jpg', 'A51174.jpg', 'A57711.jpg', 'A51240.jpg', 'A51368.jpg', 'A51372.jpg', 'A51344.jpg', 'A51233.jpg', 'A60700.jpg', 'A60269.jpg', 'A60334.jpg', 'A60451.jpg', 'A60338.jpg', 'A60441.jpg', 'A60152.jpg', 'A60138.jpg', 'A60166.jpg', 'A60185.jpg', 'A60491.jpg', 'A60369.jpg', 'A60121.jpg', 'A60264.jpg', 'A60203.jpg', 'A60145.jpg', 'A60349.jpg', 'A60247.jpg', 'A60218.jpg', 'A60224.jpg', 'A60514.jpg', 'A60478.jpg', 'A60158.jpg', 'A61191.jpg', 'A61070.jpg', 'A61492.jpg', 'A61038.jpg', 'A60767.jpg', 'A61541.jpg', 'A61543.jpg', 'A61010.jpg', 'A60810.jpg', 'A61104.jpg', 'A61187.jpg', 'A61270.jpg', 'A61175.jpg', 'A60835.jpg', 'A60879.jpg', 'A60862.jpg', 'A61254.jpg', 'A61248.jpg', 'A60925.jpg', 'A61441.jpg', 'A61136.jpg', 'A60972.jpg', 'A60952.jpg', 'A60881.jpg', 'A62152.jpg', 'A62183.jpg', 'A61982.jpg', 'A62278.jpg', 'A62674.jpg', 'A61721.jpg', 'A62222.jpg', 'A62670.jpg', 'A61897.jpg', 'A62143.jpg', 'A62145.jpg', 'A61719.jpg', 'A62613.jpg', 'A61667.jpg', 'A61629.jpg', 'A62372.jpg', 'A61589.jpg', 'A61697.jpg', 'A62508.jpg', 'A62093.jpg', 'A62260.jpg', 'A61683.jpg', 'A62511.jpg', 'A62585.jpg', 'A62475.jpg', 'A63412.jpg', 'A63871.jpg', 'A63465.jpg', 'A63302.jpg', 'A63110.jpg', 'A63557.jpg', 'A63589.jpg', 'A63057.jpg', 'A63522.jpg', 'A63335.jpg', 'A63074.jpg', 'A63055.jpg', 'A63227.jpg', 'A62709.jpg', 'A63684.jpg', 'A63079.jpg', 'A63633.jpg', 'A62838.jpg', 'A62835.jpg', 'A62676.jpg', 'A63882.jpg', 'A62696.jpg', 'A62907.jpg', 'A63742.jpg', 'A63416.jpg', 'A63018.jpg', 'A63323.jpg', 'A66267.jpg', 'A66400.jpg', 'A64229.jpg', 'A64086.jpg', 'A64004.jpg', 'A66045.jpg', 'A64023.jpg', 'A64246.jpg', 'A63927.jpg', 'A63900.jpg', 'A64349.jpg', 'A64313.jpg', 'A64333.jpg', 'A64002.jpg', 'A66171.jpg', 'A64284.jpg', 'A66271.jpg', 'A66464.jpg', 'A66229.jpg', 'A64235.jpg', 'A66460.jpg', 'A64188.jpg', 'A64363.jpg', 'A64030.jpg', 'A66320.jpg', 'A64206.jpg', 'A69085.jpg', 'A67856.jpg', 'A68864.jpg', 'A68106.jpg', 'A69036.jpg', 'A68998.jpg', 'A70164.jpg', 'A68809.jpg', 'A68418.jpg', 'A68230.jpg', 'A69051.jpg', 'A68647.jpg', 'A66488.jpg', 'A68728.jpg', 'A68566.jpg', 'A68718.jpg', 'A67942.jpg', 'A68398.jpg', 'A66507.jpg', 'A68069.jpg', 'A68643.jpg', 'A68344.jpg', 'A68363.jpg', 'A70562.jpg', 'A70554.jpg', 'A70269.jpg', 'A70481.jpg', 'A70571.jpg', 'A70187.jpg', 'A70223.jpg', 'A70454.jpg', 'A70470.jpg', 'A70170.jpg', 'A70646.jpg', 'A70618.jpg', 'A70296.jpg', 'A70208.jpg', 'A70703.jpg', 'A70453.jpg', 'A70343.jpg', 'A70631.jpg', 'A70206.jpg', 'A70777.jpg', 'A70983.jpg', 'A71082.jpg', 'A70978.jpg', 'A71467.jpg', 'A70889.jpg', 'A70764.jpg', 'A71170.jpg', 'A71259.jpg', 'A71530.jpg', 'A70905.jpg', 'A70998.jpg', 'A71429.jpg', 'A70990.jpg', 'A70869.jpg', 'A71517.jpg', 'A71264.jpg', 'A71250.jpg', 'A70723.jpg', 'A70902.jpg', 'A71033.jpg', 'A71437.jpg', 'A71068.jpg', 'A70975.jpg', 'A71362.jpg', 'A71350.jpg', 'A70866.jpg', 'A71641.jpg', 'A71537.jpg', 'A72308.jpg', 'A71724.jpg', 'A71709.jpg', 'A72503.jpg', 'A71812.jpg', 'A72077.jpg', 'A71978.jpg', 'A72531.jpg', 'A72335.jpg', 'A72149.jpg', 'A71904.jpg', 'A71662.jpg', 'A72159.jpg', 'A71818.jpg', 'A72194.jpg', 'A72063.jpg', 'A72030.jpg', 'A71739.jpg', 'A72502.jpg', 'A72103.jpg', 'A72098.jpg', 'A72037.jpg', 'A72086.jpg', 'A71810.jpg', 'A72120.jpg', 'A73059.jpg', 'A72590.jpg', 'A72823.jpg', 'A73504.jpg', 'A72830.jpg', 'A73498.jpg', 'A72655.jpg', 'A73335.jpg', 'A73489.jpg', 'A73327.jpg', 'A72649.jpg', 'A72676.jpg', 'A72640.jpg', 'A73437.jpg', 'A73099.jpg', 'A73452.jpg', 'A73184.jpg', 'A72922.jpg', 'A73023.jpg', 'A72965.jpg', 'A73555.jpg', 'A73403.jpg', 'A73078.jpg', 'A73193.jpg', 'A73587.jpg', 'A74048.jpg', 'A73756.jpg', 'A74207.jpg', 'A73626.jpg', 'A74131.jpg', 'A73764.jpg', 'A73846.jpg', 'A73639.jpg', 'A73818.jpg', 'A74143.jpg', 'A73734.jpg', 'A74128.jpg', 'A74099.jpg', 'A73769.jpg', 'A73679.jpg', 'A73673.jpg', 'A73738.jpg', 'A73865.jpg', 'A73943.jpg', 'A74022.jpg', 'A74146.jpg', 'A77585.jpg', 'A76117.jpg', 'A77551.jpg', 'A77521.jpg', 'A76118.jpg', 'A76140.jpg', 'A76000.jpg', 'A76273.jpg', 'A77600.jpg', 'A77912.jpg', 'A77854.jpg', 'A78002.jpg', 'A77022.jpg', 'A77883.jpg', 'A78072.jpg', 'A76082.jpg', 'A74220.jpg', 'A77947.jpg', 'A76278.jpg', 'A77652.jpg', 'A77744.jpg', 'A77719.jpg', 'A76285.jpg', 'A76086.jpg', 'A78128.jpg', 'A80215.jpg', 'A80212.jpg', 'A78522.jpg', 'A80201.jpg', 'A78222.jpg', 'A78488.jpg', 'A80252.jpg', 'A78301.jpg', 'A78306.jpg', 'A80264.jpg', 'A80196.jpg', 'A80094.jpg', 'A78639.jpg', 'A80204.jpg', 'A80123.jpg', 'A80194.jpg', 'A80360.jpg', 'A80221.jpg', 'A78111.jpg', 'A80048.jpg', 'A80254.jpg', 'A80929.jpg', 'A80528.jpg', 'A80477.jpg', 'A80665.jpg', 'A80834.jpg', 'A80517.jpg', 'A80761.jpg', 'A80814.jpg', 'A80710.jpg', 'A80610.jpg', 'A80915.jpg', 'A80811.jpg', 'A80693.jpg', 'A80568.jpg', 'A80529.jpg', 'A80640.jpg', 'A80582.jpg', 'A80675.jpg', 'A80442.jpg', 'A80533.jpg', 'A80609.jpg', 'A81381.jpg', 'A81401.jpg', 'A81652.jpg', 'A81024.jpg', 'A81442.jpg', 'A81135.jpg', 'A81377.jpg', 'A81444.jpg', 'A81100.jpg', 'A81553.jpg', 'A81091.jpg', 'A81170.jpg', 'A81563.jpg', 'A81457.jpg', 'A81126.jpg', 'A81630.jpg', 'A81574.jpg', 'A81636.jpg', 'A81099.jpg', 'A81704.jpg', 'A81716.jpg', 'A81692.jpg', 'A81775.jpg', 'A81754.jpg', 'A81779.jpg', 'A81795.jpg', 'A81783.jpg', 'A81921.jpg', 'A81850.jpg', 'A81855.jpg', 'A81811.jpg', 'A81889.jpg', 'A81893.jpg', 'A81938.jpg', 'A81804.jpg', 'A82017.jpg', 'A82092.jpg', 'A82169.jpg', 'A82195.jpg', 'A81991.jpg', 'A82180.jpg', 'A82197.jpg', 'A82291.jpg', 'A82077.jpg', 'A82254.jpg', 'A82091.jpg', 'A82134.jpg', 'A82405.jpg', 'A82357.jpg', 'A82333.jpg', 'A82498.jpg', 'A82458.jpg', 'A82318.jpg', 'A82455.jpg', 'A82300.jpg', 'A82642.jpg', 'A82721.jpg', 'A82558.jpg', 'A82547.jpg', 'A82579.jpg', 'A82609.jpg', 'A82598.jpg', 'A82580.jpg', 'A82509.jpg', 'A82875.jpg', 'A82847.jpg', 'A82774.jpg', 'A82899.jpg', 'A82771.jpg', 'A82902.jpg', 'A82791.jpg', 'A82768.jpg', 'A82914.jpg', 'A82903.jpg', 'A82981.jpg', 'A83031.jpg', 'A82994.jpg', 'A82968.jpg', 'A82944.jpg', 'A83037.jpg', 'A82978.jpg', 'A83003.jpg', 'A82951.jpg', 'A83094.jpg', 'A83069.jpg', 'A83118.jpg', 'A83163.jpg', 'A83101.jpg', 'A83084.jpg', 'A83165.jpg', 'A83166.jpg', 'A83284.jpg', 'A83281.jpg', 'A83241.jpg', 'A83293.jpg', 'A83283.jpg', 'A83208.jpg', 'A83338.jpg', 'A83302.jpg', 'A83427.jpg', 'A83508.jpg', 'A83437.jpg', 'A83581.jpg', 'A83405.jpg', 'A83550.jpg', 'A83344.jpg', 'A83630.jpg', 'A83673.jpg', 'A83748.jpg', 'A83856.jpg', 'A83722.jpg', 'A83808.jpg', 'A83613.jpg', 'A83817.jpg', 'A83608.jpg', 'A83664.jpg', 'A83855.jpg', 'A83711.jpg', 'A83746.jpg', 'A83822.jpg', 'A83622.jpg', 'A83946.jpg', 'A87828.jpg', 'A86099.jpg', 'A83907.jpg', 'A85068.jpg', 'A86226.jpg', 'A86028.jpg', 'A86063.jpg', 'A86258.jpg', 'A83913.jpg', 'A86071.jpg', 'A87167.jpg', 'A86277.jpg', 'A87092.jpg', 'A87116.jpg', 'A87634.jpg', 'A87730.jpg', 'A88425.jpg', 'A88099.jpg', 'A90268.jpg', 'A87851.jpg', 'A88447.jpg', 'A90315.jpg', 'A90087.jpg', 'A88072.jpg', 'A87981.jpg', 'A90185.jpg', 'A88180.jpg', 'A87924.jpg', 'A87996.jpg', 'A88000.jpg', 'A88460.jpg', 'A88114.jpg', 'A88018.jpg', 'A88255.jpg', 'A90240.jpg', 'A90171.jpg', 'A88090.jpg', 'A90145.jpg', 'A90513.jpg', 'A90392.jpg', 'A90420.jpg', 'A90485.jpg', 'A90344.jpg', 'A90733.jpg', 'A90409.jpg', 'A90860.jpg', 'A90506.jpg', 'A90868.jpg', 'A90706.jpg', 'A90770.jpg', 'A90577.jpg', 'A90846.jpg', 'A90663.jpg', 'A90478.jpg', 'A90510.jpg', 'A90720.jpg', 'A90608.jpg', 'A90333.jpg', 'A90592.jpg', 'A90532.jpg', 'A91213.jpg', 'A91256.jpg', 'A91082.jpg', 'A91433.jpg', 'A91016.jpg', 'A91399.jpg', 'A90986.jpg', 'A91381.jpg', 'A90976.jpg', 'A91041.jpg', 'A90949.jpg', 'A91307.jpg', 'A91040.jpg', 'A91362.jpg', 'A90881.jpg', 'A90937.jpg', 'A90903.jpg', 'A91177.jpg', 'A91250.jpg', 'A90911.jpg', 'A91375.jpg', 'A91495.jpg', 'A91992.jpg', 'A91779.jpg', 'A91846.jpg', 'A91487.jpg', 'A91769.jpg', 'A91609.jpg', 'A91848.jpg', 'A91837.jpg', 'A91970.jpg', 'A91784.jpg', 'A91717.jpg', 'A91775.jpg', 'A91793.jpg', 'A91437.jpg', 'A91885.jpg', 'A91509.jpg', 'A91815.jpg', 'A91584.jpg', 'A91687.jpg', 'A91619.jpg', 'A91791.jpg', 'A91518.jpg', 'A91478.jpg', 'A91814.jpg', 'A92280.jpg', 'A92178.jpg', 'A91993.jpg', 'A92146.jpg', 'A92381.jpg', 'A92120.jpg', 'A92240.jpg', 'A92207.jpg', 'A92275.jpg', 'A92080.jpg', 'A92318.jpg', 'A92021.jpg', 'A92410.jpg', 'A92127.jpg', 'A92299.jpg', 'A92033.jpg', 'A92474.jpg', 'A92426.jpg', 'A92623.jpg', 'A92424.jpg', 'A92661.jpg', 'A92828.jpg', 'A92551.jpg', 'A92750.jpg', 'A92472.jpg', 'A92482.jpg', 'A92800.jpg', 'A92877.jpg', 'A92428.jpg', 'A92662.jpg', 'A92579.jpg', 'A92816.jpg', 'A92945.jpg', 'A93080.jpg', 'A93015.jpg', 'A92929.jpg', 'A93108.jpg', 'A93053.jpg', 'A92974.jpg', 'A93039.jpg', 'A92903.jpg', 'A93094.jpg', 'A93067.jpg', 'A92942.jpg', 'A92888.jpg', 'A93071.jpg', 'A93033.jpg', 'A93275.jpg', 'A93248.jpg', 'A93270.jpg', 'A93136.jpg', 'A93267.jpg', 'A93211.jpg', 'A93280.jpg', 'A93421.jpg', 'A93184.jpg', 'A93266.jpg', 'A93441.jpg', 'A93333.jpg', 'A93339.jpg', 'A93232.jpg', 'A93199.jpg', 'A93251.jpg', 'A93553.jpg', 'A93676.jpg', 'A93573.jpg', 'A93524.jpg', 'A93480.jpg', 'A93489.jpg', 'A93570.jpg', 'A93650.jpg', 'A93501.jpg', 'A93601.jpg', 'A93664.jpg', 'A96044.jpg', 'A93755.jpg', 'A93696.jpg', 'A96128.jpg', 'A96174.jpg', 'A93754.jpg', 'A93699.jpg', 'A96043.jpg', 'A96072.jpg', 'A96180.jpg', 'A93747.jpg', 'A95046.jpg', 'A96092.jpg', 'A93734.jpg', 'A97532.jpg', 'A96214.jpg', 'A96270.jpg', 'A97519.jpg', 'A97808.jpg', 'A97772.jpg', 'A97828.jpg', 'A97785.jpg', 'A97884.jpg', 'A97801.jpg', 'A97665.jpg', 'A97723.jpg', 'A97512.jpg', 'A97536.jpg', 'B00040.jpg', 'A98206.jpg', 'A98222.jpg', 'A97917.jpg', 'B00050.jpg', 'B00045.jpg', 'A98155.jpg', 'B00002.jpg', 'B00018.jpg', 'A98347.jpg', 'A97885.jpg', 'A98333.jpg', 'A98232.jpg', 'B00077.jpg', 'B00206.jpg', 'B00203.jpg', 'B00094.jpg', 'B00118.jpg', 'B00255.jpg', 'B00161.jpg', 'B00160.jpg', 'B00131.jpg', 'B00208.jpg', 'B00230.jpg', 'B00149.jpg', 'B00124.jpg', 'B00217.jpg', 'B00298.jpg', 'B00387.jpg', 'B00284.jpg', 'B00315.jpg', 'B00347.jpg', 'B00375.jpg', 'B00368.jpg', 'B00270.jpg', 'B00327.jpg', 'B00366.jpg', 'B00291.jpg', 'B00296.jpg', 'B00358.jpg', 'B00499.jpg', 'B00573.jpg', 'B00538.jpg', 'B00466.jpg', 'B00510.jpg', 'B00528.jpg', 'B00562.jpg', 'B00496.jpg', 'B00489.jpg', 'B00398.jpg', 'B00492.jpg', 'B00578.jpg', 'B00447.jpg', 'B00481.jpg', 'B00691.jpg', 'B00611.jpg', 'B00663.jpg', 'B00659.jpg', 'B00618.jpg', 'B00708.jpg', 'B00592.jpg', 'B00643.jpg', 'B00651.jpg', 'B00591.jpg', 'B00632.jpg', 'B00627.jpg', 'B00613.jpg', 'B00778.jpg', 'B00750.jpg', 'B00727.jpg', 'B00845.jpg', 'B00732.jpg', 'B00796.jpg', 'B00832.jpg', 'B00719.jpg', 'B00734.jpg', 'B00830.jpg', 'B00780.jpg', 'B00804.jpg', 'B00838.jpg', 'B00956.jpg', 'B00862.jpg', 'B00944.jpg', 'B01021.jpg', 'B00951.jpg', 'B00914.jpg', 'B00984.jpg', 'B01000.jpg', 'B00927.jpg', 'B00857.jpg', 'B00964.jpg', 'B00892.jpg', 'B01016.jpg', 'B01031.jpg', 'B01035.jpg', 'B00847.jpg', 'B00860.jpg', 'B00856.jpg', 'B00846.jpg', 'B01158.jpg', 'B01127.jpg', 'B01107.jpg', 'B01157.jpg', 'B01103.jpg', 'B01131.jpg', 'B01140.jpg', 'B01101.jpg', 'B01160.jpg', 'B01092.jpg', 'B01049.jpg', 'B01151.jpg', 'B01148.jpg', 'B01196.jpg', 'B01098.jpg', 'B01042.jpg', 'B01266.jpg', 'B01215.jpg', 'B01303.jpg', 'B01334.jpg', 'B01331.jpg', 'B01276.jpg', 'B01243.jpg', 'B01351.jpg', 'B01299.jpg', 'B01272.jpg', 'B01291.jpg', 'B01349.jpg', 'B01240.jpg', 'B01546.jpg', 'B01433.jpg', 'B01475.jpg', 'B01508.jpg', 'B01370.jpg', 'B01391.jpg', 'B01507.jpg', 'B01486.jpg', 'B01482.jpg', 'B01518.jpg', 'B01455.jpg', 'B01358.jpg', 'B01414.jpg', 'B01480.jpg', 'B01357.jpg', 'B01593.jpg', 'B01608.jpg', 'B01686.jpg', 'B01698.jpg', 'B01699.jpg', 'B01625.jpg', 'B01671.jpg', 'B01651.jpg', 'B01658.jpg', 'B01684.jpg', 'B01655.jpg', 'B01589.jpg', 'B01640.jpg', 'B01708.jpg', 'B01678.jpg', 'B01665.jpg', 'B01715.jpg', 'B01868.jpg', 'B01731.jpg', 'B01935.jpg', 'B01733.jpg', 'B01808.jpg', 'B01898.jpg', 'B01851.jpg', 'B01828.jpg', 'B01791.jpg', 'B01934.jpg', 'B01886.jpg', 'B01826.jpg', 'B01855.jpg', 'B01740.jpg', 'B01785.jpg', 'B01960.jpg', 'B02004.jpg', 'B01969.jpg', 'B01971.jpg', 'B01964.jpg', 'B01954.jpg', 'B01994.jpg', 'B01979.jpg', 'B01941.jpg', 'B01998.jpg', 'B01985.jpg', 'B01946.jpg', 'B02002.jpg', 'B02030.jpg', 'B01987.jpg', 'B02066.jpg', 'B02074.jpg', 'B02059.jpg', 'B02272.jpg', 'B02159.jpg', 'B02138.jpg', 'B02126.jpg', 'B02089.jpg', 'B02043.jpg', 'B02093.jpg', 'B02152.jpg', 'B02149.jpg', 'B02057.jpg', 'B02162.jpg', 'B02150.jpg', 'B02132.jpg', 'B02281.jpg', 'B02385.jpg', 'B02350.jpg', 'B02339.jpg', 'B02374.jpg', 'B02275.jpg', 'B02300.jpg', 'B02381.jpg', 'B02417.jpg', 'B02367.jpg', 'B02330.jpg', 'B02455.jpg', 'B02344.jpg', 'B02375.jpg', 'B02371.jpg', 'B02462.jpg', 'B02479.jpg', 'B02520.jpg', 'B02550.jpg', 'B02470.jpg', 'B02504.jpg', 'B02570.jpg', 'B02574.jpg', 'B02457.jpg', 'B02513.jpg', 'B02563.jpg', 'B02592.jpg', 'B02594.jpg', 'B02672.jpg', 'B02669.jpg', 'B02617.jpg', 'B02661.jpg', 'B02683.jpg', 'B02622.jpg', 'B02704.jpg', 'B02619.jpg', 'B02616.jpg', 'B02615.jpg', 'B02604.jpg', 'B02715.jpg', 'B02664.jpg', 'B02898.jpg', 'B02922.jpg', 'B02768.jpg', 'B02758.jpg', 'B02730.jpg', 'B02801.jpg', 'B02783.jpg', 'B02861.jpg', 'B02818.jpg', 'B02851.jpg', 'B02941.jpg', 'B02831.jpg', 'B02853.jpg', 'B02721.jpg', 'B03017.jpg', 'B03030.jpg', 'B03033.jpg', 'A00147.jpg', 'A01077.jpg', 'A01157.jpg', 'A00220.jpg', 'A01148.jpg', 'A01054.jpg', 'A01072.jpg', 'A00360.jpg', 'A00367.jpg', 'A01422.jpg', 'A01680.jpg', 'A01796.jpg', 'A01258.jpg', 'A01694.jpg', 'A01676.jpg', 'A01467.jpg', 'A01615.jpg', 'A01806.jpg', 'A01365.jpg', 'A01736.jpg', 'A01681.jpg', 'A01729.jpg', 'A01237.jpg', 'A01181.jpg', 'A01759.jpg', 'A01531.jpg', 'A01411.jpg', 'A01356.jpg', 'A01399.jpg', 'A01815.jpg', 'A01349.jpg', 'A01457.jpg', 'A01285.jpg', 'A01929.jpg', 'A01889.jpg', 'A01834.jpg', 'A01824.jpg', 'A02005.jpg', 'A01950.jpg', 'A02074.jpg', 'A01996.jpg', 'A01958.jpg', 'A02079.jpg', 'A02077.jpg', 'A02008.jpg', 'A01939.jpg', 'A01860.jpg', 'A02049.jpg', 'A01909.jpg', 'A01906.jpg', 'A01990.jpg', 'A02312.jpg', 'A08225.jpg', 'A08230.jpg', 'A08240.jpg', 'A02232.jpg', 'A06264.jpg', 'A08307.jpg', 'A08141.jpg', 'A08064.jpg', 'A02306.jpg', 'A02270.jpg', 'A02350.jpg', 'A02436.jpg', 'A02133.jpg', 'A02099.jpg', 'A06045.jpg', 'A02088.jpg', 'A08095.jpg', 'A02376.jpg', 'A06342.jpg', 'A08086.jpg', 'A02244.jpg', 'A10465.jpg', 'A10398.jpg', 'A10309.jpg', 'A10508.jpg', 'A10506.jpg', 'A10307.jpg', 'A10203.jpg', 'A10582.jpg', 'A10510.jpg', 'A10397.jpg', 'A10410.jpg', 'A10413.jpg', 'A10300.jpg', 'A10459.jpg', 'A10133.jpg', 'A10008.jpg', 'A10574.jpg', 'A10628.jpg', 'A10514.jpg', 'A10447.jpg', 'A10480.jpg', 'A10002.jpg', 'A10037.jpg', 'A10388.jpg', 'A10157.jpg', 'A10487.jpg', 'A10165.jpg', 'A10940.jpg', 'A11030.jpg', 'A10859.jpg', 'A10936.jpg', 'A10883.jpg', 'A10654.jpg', 'A10970.jpg', 'A10763.jpg', 'A15205.jpg', 'A11128.jpg', 'A15167.jpg', 'A15182.jpg', 'A10951.jpg', 'A10938.jpg', 'A10656.jpg', 'A15155.jpg', 'A15031.jpg', 'A15172.jpg', 'A10913.jpg', 'A10935.jpg', 'A10695.jpg', 'A15096.jpg', 'A15110.jpg', 'A10939.jpg', 'A11005.jpg', 'A15210.jpg', 'A15421.jpg', 'A15655.jpg', 'A15211.jpg', 'A15497.jpg', 'A15212.jpg', 'A15580.jpg', 'A15336.jpg', 'A15423.jpg', 'A15380.jpg', 'A15347.jpg', 'A15590.jpg', 'A15306.jpg', 'A15702.jpg', 'A15243.jpg', 'A15385.jpg', 'A15639.jpg', 'A15602.jpg', 'A15644.jpg']\n"
          ]
        }
      ]
    },
    {
      "cell_type": "code",
      "source": [
        "import os\n",
        "import cv2\n",
        "import numpy as np\n",
        "from tqdm import tqdm\n",
        "import matplotlib.pyplot as plt\n",
        "from tensorflow.keras.utils import to_categorical\n",
        "\n",
        "# Dataset Path\n",
        "DATASET_PATH = \"/content/drive/MyDrive/criminal_dataset\"\n",
        "IMG_SIZE = (64, 64)\n",
        "\n",
        "# Load all images as one class\n",
        "def load_images(dataset_path, img_size):\n",
        "    data = []\n",
        "    labels = []\n",
        "\n",
        "    for img in tqdm(os.listdir(dataset_path)):\n",
        "        try:\n",
        "            img_array = cv2.imread(os.path.join(dataset_path, img))\n",
        "            img_array = cv2.cvtColor(img_array, cv2.COLOR_BGR2RGB)  # Convert to RGB\n",
        "            img_array = cv2.resize(img_array, img_size)  # Resize\n",
        "            data.append(img_array)\n",
        "            labels.append(0)  # Assign all images to class \"0\"\n",
        "        except Exception as e:\n",
        "            print(f\"Error loading image {img}: {e}\")\n",
        "\n",
        "    return np.array(data), np.array(labels)\n",
        "\n",
        "# Load images\n",
        "X, y = load_images(DATASET_PATH, IMG_SIZE)\n",
        "\n",
        "# Normalize images\n",
        "X = X / 255.0\n",
        "\n",
        "# Convert labels to categorical\n",
        "y = to_categorical(y, 1)\n",
        "\n",
        "print(f\"Loaded {X.shape[0]} images. All assigned to class 0.\")\n"
      ],
      "metadata": {
        "colab": {
          "base_uri": "https://localhost:8080/"
        },
        "id": "3Un2Hqdr-aXg",
        "outputId": "e748d407-4623-4ba4-f14f-8710c31a01d8"
      },
      "execution_count": null,
      "outputs": [
        {
          "output_type": "stream",
          "name": "stderr",
          "text": [
            "  8%|▊         | 174/2144 [00:45<00:27, 71.20it/s]"
          ]
        },
        {
          "output_type": "stream",
          "name": "stdout",
          "text": [
            "Error loading image B04630.jpg: OpenCV(4.11.0) /io/opencv/modules/imgproc/src/color.cpp:199: error: (-215:Assertion failed) !_src.empty() in function 'cvtColor'\n",
            "\n"
          ]
        },
        {
          "output_type": "stream",
          "name": "stderr",
          "text": [
            " 14%|█▎        | 290/2144 [00:46<00:14, 129.41it/s]"
          ]
        },
        {
          "output_type": "stream",
          "name": "stdout",
          "text": [
            "Error loading image B06088.jpg: OpenCV(4.11.0) /io/opencv/modules/imgproc/src/color.cpp:199: error: (-215:Assertion failed) !_src.empty() in function 'cvtColor'\n",
            "\n"
          ]
        },
        {
          "output_type": "stream",
          "name": "stderr",
          "text": [
            " 22%|██▏       | 476/2144 [00:47<00:14, 117.18it/s]"
          ]
        },
        {
          "output_type": "stream",
          "name": "stdout",
          "text": [
            "Error loading image B09213.jpg: OpenCV(4.11.0) /io/opencv/modules/imgproc/src/color.cpp:199: error: (-215:Assertion failed) !_src.empty() in function 'cvtColor'\n",
            "\n"
          ]
        },
        {
          "output_type": "stream",
          "name": "stderr",
          "text": [
            " 25%|██▍       | 528/2144 [00:48<00:13, 123.70it/s]"
          ]
        },
        {
          "output_type": "stream",
          "name": "stdout",
          "text": [
            "Error loading image B09724.jpg: OpenCV(4.11.0) /io/opencv/modules/imgproc/src/color.cpp:199: error: (-215:Assertion failed) !_src.empty() in function 'cvtColor'\n",
            "\n"
          ]
        },
        {
          "output_type": "stream",
          "name": "stderr",
          "text": [
            " 36%|███▌      | 764/2144 [00:50<00:15, 90.06it/s] "
          ]
        },
        {
          "output_type": "stream",
          "name": "stdout",
          "text": [
            "Error loading image B12719.jpg: OpenCV(4.11.0) /io/opencv/modules/imgproc/src/color.cpp:199: error: (-215:Assertion failed) !_src.empty() in function 'cvtColor'\n",
            "\n"
          ]
        },
        {
          "output_type": "stream",
          "name": "stderr",
          "text": [
            " 40%|███▉      | 851/2144 [00:51<00:12, 103.51it/s]"
          ]
        },
        {
          "output_type": "stream",
          "name": "stdout",
          "text": [
            "Error loading image B13502.jpg: OpenCV(4.11.0) /io/opencv/modules/imgproc/src/color.cpp:199: error: (-215:Assertion failed) !_src.empty() in function 'cvtColor'\n",
            "\n"
          ]
        },
        {
          "output_type": "stream",
          "name": "stderr",
          "text": [
            " 44%|████▍     | 943/2144 [00:52<00:11, 100.67it/s]"
          ]
        },
        {
          "output_type": "stream",
          "name": "stdout",
          "text": [
            "Error loading image B14500.jpg: OpenCV(4.11.0) /io/opencv/modules/imgproc/src/color.cpp:199: error: (-215:Assertion failed) !_src.empty() in function 'cvtColor'\n",
            "\n"
          ]
        },
        {
          "output_type": "stream",
          "name": "stderr",
          "text": [
            " 49%|████▊     | 1043/2144 [00:52<00:08, 137.21it/s]"
          ]
        },
        {
          "output_type": "stream",
          "name": "stdout",
          "text": [
            "Error loading image A15763.jpg: OpenCV(4.11.0) /io/opencv/modules/imgproc/src/color.cpp:199: error: (-215:Assertion failed) !_src.empty() in function 'cvtColor'\n",
            "\n"
          ]
        },
        {
          "output_type": "stream",
          "name": "stderr",
          "text": [
            " 50%|█████     | 1073/2144 [00:53<00:07, 139.28it/s]"
          ]
        },
        {
          "output_type": "stream",
          "name": "stdout",
          "text": [
            "Error loading image A56106.jpg: OpenCV(4.11.0) /io/opencv/modules/imgproc/src/color.cpp:199: error: (-215:Assertion failed) !_src.empty() in function 'cvtColor'\n",
            "\n"
          ]
        },
        {
          "output_type": "stream",
          "name": "stderr",
          "text": [
            " 53%|█████▎    | 1134/2144 [00:53<00:07, 137.84it/s]"
          ]
        },
        {
          "output_type": "stream",
          "name": "stdout",
          "text": [
            "Error loading image A61982.jpg: OpenCV(4.11.0) /io/opencv/modules/imgproc/src/color.cpp:199: error: (-215:Assertion failed) !_src.empty() in function 'cvtColor'\n",
            "\n"
          ]
        },
        {
          "output_type": "stream",
          "name": "stderr",
          "text": [
            " 58%|█████▊    | 1254/2144 [00:54<00:06, 136.52it/s]"
          ]
        },
        {
          "output_type": "stream",
          "name": "stdout",
          "text": [
            "Error loading image A70618.jpg: OpenCV(4.11.0) /io/opencv/modules/imgproc/src/color.cpp:199: error: (-215:Assertion failed) !_src.empty() in function 'cvtColor'\n",
            "\n"
          ]
        },
        {
          "output_type": "stream",
          "name": "stderr",
          "text": [
            " 67%|██████▋   | 1435/2144 [00:55<00:05, 141.10it/s]"
          ]
        },
        {
          "output_type": "stream",
          "name": "stdout",
          "text": [
            "Error loading image A81652.jpg: OpenCV(4.11.0) /io/opencv/modules/imgproc/src/color.cpp:199: error: (-215:Assertion failed) !_src.empty() in function 'cvtColor'\n",
            "\n",
            "Error loading image A81850.jpg: OpenCV(4.11.0) /io/opencv/modules/imgproc/src/color.cpp:199: error: (-215:Assertion failed) !_src.empty() in function 'cvtColor'\n",
            "\n"
          ]
        },
        {
          "output_type": "stream",
          "name": "stderr",
          "text": [
            " 69%|██████▉   | 1481/2144 [00:56<00:04, 139.54it/s]"
          ]
        },
        {
          "output_type": "stream",
          "name": "stdout",
          "text": [
            "Error loading image A82134.jpg: OpenCV(4.11.0) /io/opencv/modules/imgproc/src/color.cpp:199: error: (-215:Assertion failed) !_src.empty() in function 'cvtColor'\n",
            "\n",
            "Error loading image A82875.jpg: OpenCV(4.11.0) /io/opencv/modules/imgproc/src/color.cpp:199: error: (-215:Assertion failed) !_src.empty() in function 'cvtColor'\n",
            "\n"
          ]
        },
        {
          "output_type": "stream",
          "name": "stderr",
          "text": [
            " 73%|███████▎  | 1559/2144 [00:56<00:04, 143.73it/s]"
          ]
        },
        {
          "output_type": "stream",
          "name": "stdout",
          "text": [
            "Error loading image A86277.jpg: OpenCV(4.11.0) /io/opencv/modules/imgproc/src/color.cpp:199: error: (-215:Assertion failed) !_src.empty() in function 'cvtColor'\n",
            "\n"
          ]
        },
        {
          "output_type": "stream",
          "name": "stderr",
          "text": [
            " 75%|███████▍  | 1605/2144 [00:56<00:03, 142.28it/s]"
          ]
        },
        {
          "output_type": "stream",
          "name": "stdout",
          "text": [
            "Error loading image A91256.jpg: OpenCV(4.11.0) /io/opencv/modules/imgproc/src/color.cpp:199: error: (-215:Assertion failed) !_src.empty() in function 'cvtColor'\n",
            "\n",
            "Error loading image A90976.jpg: OpenCV(4.11.0) /io/opencv/modules/imgproc/src/color.cpp:199: error: (-215:Assertion failed) !_src.empty() in function 'cvtColor'\n",
            "\n"
          ]
        },
        {
          "output_type": "stream",
          "name": "stderr",
          "text": [
            " 78%|███████▊  | 1664/2144 [00:57<00:03, 138.35it/s]"
          ]
        },
        {
          "output_type": "stream",
          "name": "stdout",
          "text": [
            "Error loading image A92207.jpg: OpenCV(4.11.0) /io/opencv/modules/imgproc/src/color.cpp:199: error: (-215:Assertion failed) !_src.empty() in function 'cvtColor'\n",
            "\n"
          ]
        },
        {
          "output_type": "stream",
          "name": "stderr",
          "text": [
            " 80%|███████▉  | 1709/2144 [00:57<00:03, 141.71it/s]"
          ]
        },
        {
          "output_type": "stream",
          "name": "stdout",
          "text": [
            "Error loading image A93211.jpg: OpenCV(4.11.0) /io/opencv/modules/imgproc/src/color.cpp:199: error: (-215:Assertion failed) !_src.empty() in function 'cvtColor'\n",
            "\n",
            "Error loading image A93184.jpg: OpenCV(4.11.0) /io/opencv/modules/imgproc/src/color.cpp:199: error: (-215:Assertion failed) !_src.empty() in function 'cvtColor'\n",
            "\n"
          ]
        },
        {
          "output_type": "stream",
          "name": "stderr",
          "text": [
            " 84%|████████▍ | 1799/2144 [00:58<00:02, 140.20it/s]"
          ]
        },
        {
          "output_type": "stream",
          "name": "stdout",
          "text": [
            "Error loading image B00366.jpg: OpenCV(4.11.0) /io/opencv/modules/imgproc/src/color.cpp:199: error: (-215:Assertion failed) !_src.empty() in function 'cvtColor'\n",
            "\n"
          ]
        },
        {
          "output_type": "stream",
          "name": "stderr",
          "text": [
            " 86%|████████▌ | 1846/2144 [00:58<00:02, 134.25it/s]"
          ]
        },
        {
          "output_type": "stream",
          "name": "stdout",
          "text": [
            "Error loading image B00857.jpg: OpenCV(4.11.0) /io/opencv/modules/imgproc/src/color.cpp:199: error: (-215:Assertion failed) !_src.empty() in function 'cvtColor'\n",
            "\n",
            "Error loading image B01107.jpg: OpenCV(4.11.0) /io/opencv/modules/imgproc/src/color.cpp:199: error: (-215:Assertion failed) !_src.empty() in function 'cvtColor'\n",
            "\n"
          ]
        },
        {
          "output_type": "stream",
          "name": "stderr",
          "text": [
            " 90%|████████▉ | 1922/2144 [00:59<00:01, 139.37it/s]"
          ]
        },
        {
          "output_type": "stream",
          "name": "stdout",
          "text": [
            "Error loading image B01791.jpg: OpenCV(4.11.0) /io/opencv/modules/imgproc/src/color.cpp:199: error: (-215:Assertion failed) !_src.empty() in function 'cvtColor'\n",
            "\n"
          ]
        },
        {
          "output_type": "stream",
          "name": "stderr",
          "text": [
            " 95%|█████████▍| 2028/2144 [01:00<00:00, 138.57it/s]"
          ]
        },
        {
          "output_type": "stream",
          "name": "stdout",
          "text": [
            "Error loading image A00220.jpg: OpenCV(4.11.0) /io/opencv/modules/imgproc/src/color.cpp:199: error: (-215:Assertion failed) !_src.empty() in function 'cvtColor'\n",
            "\n"
          ]
        },
        {
          "output_type": "stream",
          "name": "stderr",
          "text": [
            "100%|██████████| 2144/2144 [01:01<00:00, 35.14it/s] \n"
          ]
        },
        {
          "output_type": "stream",
          "name": "stdout",
          "text": [
            "Loaded 2118 images. All assigned to class 0.\n"
          ]
        }
      ]
    },
    {
      "cell_type": "code",
      "source": [
        "from tensorflow.keras.preprocessing.image import ImageDataGenerator\n",
        "\n",
        "datagen = ImageDataGenerator(\n",
        "    rotation_range=20,\n",
        "    width_shift_range=0.2,\n",
        "    height_shift_range=0.2,\n",
        "    horizontal_flip=True,\n",
        "    zoom_range=0.2\n",
        ")\n",
        "\n",
        "datagen.fit(X)\n"
      ],
      "metadata": {
        "id": "0DuCrh0Y-yLf"
      },
      "execution_count": null,
      "outputs": []
    },
    {
      "cell_type": "code",
      "source": [
        "from tensorflow.keras.models import Sequential\n",
        "from tensorflow.keras.layers import Conv2D, MaxPooling2D, Flatten, Dense, Dropout\n",
        "from tensorflow.keras import regularizers\n",
        "\n",
        "model = Sequential([\n",
        "    Conv2D(32, (3,3), activation='relu', kernel_regularizer=regularizers.l2(0.001), input_shape=(64, 64, 3)),\n",
        "    MaxPooling2D(pool_size=(2,2)),\n",
        "    Dropout(0.25),\n",
        "\n",
        "    Conv2D(64, (3,3), activation='relu', kernel_regularizer=regularizers.l2(0.001)),\n",
        "    MaxPooling2D(pool_size=(2,2)),\n",
        "    Dropout(0.25),\n",
        "\n",
        "    Flatten(),\n",
        "    Dense(128, activation='relu', kernel_regularizer=regularizers.l2(0.001)),\n",
        "    Dropout(0.5),\n",
        "    Dense(1, activation='sigmoid')  # Binary classification\n",
        "])\n",
        "\n",
        "model.compile(optimizer='adam', loss='binary_crossentropy', metrics=['accuracy'])\n",
        "\n",
        "print(model.summary())\n"
      ],
      "metadata": {
        "colab": {
          "base_uri": "https://localhost:8080/",
          "height": 521
        },
        "id": "GaHe4uK--1Lr",
        "outputId": "71e00644-2bf4-44be-8120-c0835847b4ab"
      },
      "execution_count": null,
      "outputs": [
        {
          "output_type": "stream",
          "name": "stderr",
          "text": [
            "/usr/local/lib/python3.11/dist-packages/keras/src/layers/convolutional/base_conv.py:107: UserWarning: Do not pass an `input_shape`/`input_dim` argument to a layer. When using Sequential models, prefer using an `Input(shape)` object as the first layer in the model instead.\n",
            "  super().__init__(activity_regularizer=activity_regularizer, **kwargs)\n"
          ]
        },
        {
          "output_type": "display_data",
          "data": {
            "text/plain": [
              "\u001b[1mModel: \"sequential\"\u001b[0m\n"
            ],
            "text/html": [
              "<pre style=\"white-space:pre;overflow-x:auto;line-height:normal;font-family:Menlo,'DejaVu Sans Mono',consolas,'Courier New',monospace\"><span style=\"font-weight: bold\">Model: \"sequential\"</span>\n",
              "</pre>\n"
            ]
          },
          "metadata": {}
        },
        {
          "output_type": "display_data",
          "data": {
            "text/plain": [
              "┏━━━━━━━━━━━━━━━━━━━━━━━━━━━━━━━━━━━━━━┳━━━━━━━━━━━━━━━━━━━━━━━━━━━━━┳━━━━━━━━━━━━━━━━━┓\n",
              "┃\u001b[1m \u001b[0m\u001b[1mLayer (type)                        \u001b[0m\u001b[1m \u001b[0m┃\u001b[1m \u001b[0m\u001b[1mOutput Shape               \u001b[0m\u001b[1m \u001b[0m┃\u001b[1m \u001b[0m\u001b[1m        Param #\u001b[0m\u001b[1m \u001b[0m┃\n",
              "┡━━━━━━━━━━━━━━━━━━━━━━━━━━━━━━━━━━━━━━╇━━━━━━━━━━━━━━━━━━━━━━━━━━━━━╇━━━━━━━━━━━━━━━━━┩\n",
              "│ conv2d (\u001b[38;5;33mConv2D\u001b[0m)                      │ (\u001b[38;5;45mNone\u001b[0m, \u001b[38;5;34m62\u001b[0m, \u001b[38;5;34m62\u001b[0m, \u001b[38;5;34m32\u001b[0m)          │             \u001b[38;5;34m896\u001b[0m │\n",
              "├──────────────────────────────────────┼─────────────────────────────┼─────────────────┤\n",
              "│ max_pooling2d (\u001b[38;5;33mMaxPooling2D\u001b[0m)         │ (\u001b[38;5;45mNone\u001b[0m, \u001b[38;5;34m31\u001b[0m, \u001b[38;5;34m31\u001b[0m, \u001b[38;5;34m32\u001b[0m)          │               \u001b[38;5;34m0\u001b[0m │\n",
              "├──────────────────────────────────────┼─────────────────────────────┼─────────────────┤\n",
              "│ dropout (\u001b[38;5;33mDropout\u001b[0m)                    │ (\u001b[38;5;45mNone\u001b[0m, \u001b[38;5;34m31\u001b[0m, \u001b[38;5;34m31\u001b[0m, \u001b[38;5;34m32\u001b[0m)          │               \u001b[38;5;34m0\u001b[0m │\n",
              "├──────────────────────────────────────┼─────────────────────────────┼─────────────────┤\n",
              "│ conv2d_1 (\u001b[38;5;33mConv2D\u001b[0m)                    │ (\u001b[38;5;45mNone\u001b[0m, \u001b[38;5;34m29\u001b[0m, \u001b[38;5;34m29\u001b[0m, \u001b[38;5;34m64\u001b[0m)          │          \u001b[38;5;34m18,496\u001b[0m │\n",
              "├──────────────────────────────────────┼─────────────────────────────┼─────────────────┤\n",
              "│ max_pooling2d_1 (\u001b[38;5;33mMaxPooling2D\u001b[0m)       │ (\u001b[38;5;45mNone\u001b[0m, \u001b[38;5;34m14\u001b[0m, \u001b[38;5;34m14\u001b[0m, \u001b[38;5;34m64\u001b[0m)          │               \u001b[38;5;34m0\u001b[0m │\n",
              "├──────────────────────────────────────┼─────────────────────────────┼─────────────────┤\n",
              "│ dropout_1 (\u001b[38;5;33mDropout\u001b[0m)                  │ (\u001b[38;5;45mNone\u001b[0m, \u001b[38;5;34m14\u001b[0m, \u001b[38;5;34m14\u001b[0m, \u001b[38;5;34m64\u001b[0m)          │               \u001b[38;5;34m0\u001b[0m │\n",
              "├──────────────────────────────────────┼─────────────────────────────┼─────────────────┤\n",
              "│ flatten (\u001b[38;5;33mFlatten\u001b[0m)                    │ (\u001b[38;5;45mNone\u001b[0m, \u001b[38;5;34m12544\u001b[0m)               │               \u001b[38;5;34m0\u001b[0m │\n",
              "├──────────────────────────────────────┼─────────────────────────────┼─────────────────┤\n",
              "│ dense (\u001b[38;5;33mDense\u001b[0m)                        │ (\u001b[38;5;45mNone\u001b[0m, \u001b[38;5;34m128\u001b[0m)                 │       \u001b[38;5;34m1,605,760\u001b[0m │\n",
              "├──────────────────────────────────────┼─────────────────────────────┼─────────────────┤\n",
              "│ dropout_2 (\u001b[38;5;33mDropout\u001b[0m)                  │ (\u001b[38;5;45mNone\u001b[0m, \u001b[38;5;34m128\u001b[0m)                 │               \u001b[38;5;34m0\u001b[0m │\n",
              "├──────────────────────────────────────┼─────────────────────────────┼─────────────────┤\n",
              "│ dense_1 (\u001b[38;5;33mDense\u001b[0m)                      │ (\u001b[38;5;45mNone\u001b[0m, \u001b[38;5;34m1\u001b[0m)                   │             \u001b[38;5;34m129\u001b[0m │\n",
              "└──────────────────────────────────────┴─────────────────────────────┴─────────────────┘\n"
            ],
            "text/html": [
              "<pre style=\"white-space:pre;overflow-x:auto;line-height:normal;font-family:Menlo,'DejaVu Sans Mono',consolas,'Courier New',monospace\">┏━━━━━━━━━━━━━━━━━━━━━━━━━━━━━━━━━━━━━━┳━━━━━━━━━━━━━━━━━━━━━━━━━━━━━┳━━━━━━━━━━━━━━━━━┓\n",
              "┃<span style=\"font-weight: bold\"> Layer (type)                         </span>┃<span style=\"font-weight: bold\"> Output Shape                </span>┃<span style=\"font-weight: bold\">         Param # </span>┃\n",
              "┡━━━━━━━━━━━━━━━━━━━━━━━━━━━━━━━━━━━━━━╇━━━━━━━━━━━━━━━━━━━━━━━━━━━━━╇━━━━━━━━━━━━━━━━━┩\n",
              "│ conv2d (<span style=\"color: #0087ff; text-decoration-color: #0087ff\">Conv2D</span>)                      │ (<span style=\"color: #00d7ff; text-decoration-color: #00d7ff\">None</span>, <span style=\"color: #00af00; text-decoration-color: #00af00\">62</span>, <span style=\"color: #00af00; text-decoration-color: #00af00\">62</span>, <span style=\"color: #00af00; text-decoration-color: #00af00\">32</span>)          │             <span style=\"color: #00af00; text-decoration-color: #00af00\">896</span> │\n",
              "├──────────────────────────────────────┼─────────────────────────────┼─────────────────┤\n",
              "│ max_pooling2d (<span style=\"color: #0087ff; text-decoration-color: #0087ff\">MaxPooling2D</span>)         │ (<span style=\"color: #00d7ff; text-decoration-color: #00d7ff\">None</span>, <span style=\"color: #00af00; text-decoration-color: #00af00\">31</span>, <span style=\"color: #00af00; text-decoration-color: #00af00\">31</span>, <span style=\"color: #00af00; text-decoration-color: #00af00\">32</span>)          │               <span style=\"color: #00af00; text-decoration-color: #00af00\">0</span> │\n",
              "├──────────────────────────────────────┼─────────────────────────────┼─────────────────┤\n",
              "│ dropout (<span style=\"color: #0087ff; text-decoration-color: #0087ff\">Dropout</span>)                    │ (<span style=\"color: #00d7ff; text-decoration-color: #00d7ff\">None</span>, <span style=\"color: #00af00; text-decoration-color: #00af00\">31</span>, <span style=\"color: #00af00; text-decoration-color: #00af00\">31</span>, <span style=\"color: #00af00; text-decoration-color: #00af00\">32</span>)          │               <span style=\"color: #00af00; text-decoration-color: #00af00\">0</span> │\n",
              "├──────────────────────────────────────┼─────────────────────────────┼─────────────────┤\n",
              "│ conv2d_1 (<span style=\"color: #0087ff; text-decoration-color: #0087ff\">Conv2D</span>)                    │ (<span style=\"color: #00d7ff; text-decoration-color: #00d7ff\">None</span>, <span style=\"color: #00af00; text-decoration-color: #00af00\">29</span>, <span style=\"color: #00af00; text-decoration-color: #00af00\">29</span>, <span style=\"color: #00af00; text-decoration-color: #00af00\">64</span>)          │          <span style=\"color: #00af00; text-decoration-color: #00af00\">18,496</span> │\n",
              "├──────────────────────────────────────┼─────────────────────────────┼─────────────────┤\n",
              "│ max_pooling2d_1 (<span style=\"color: #0087ff; text-decoration-color: #0087ff\">MaxPooling2D</span>)       │ (<span style=\"color: #00d7ff; text-decoration-color: #00d7ff\">None</span>, <span style=\"color: #00af00; text-decoration-color: #00af00\">14</span>, <span style=\"color: #00af00; text-decoration-color: #00af00\">14</span>, <span style=\"color: #00af00; text-decoration-color: #00af00\">64</span>)          │               <span style=\"color: #00af00; text-decoration-color: #00af00\">0</span> │\n",
              "├──────────────────────────────────────┼─────────────────────────────┼─────────────────┤\n",
              "│ dropout_1 (<span style=\"color: #0087ff; text-decoration-color: #0087ff\">Dropout</span>)                  │ (<span style=\"color: #00d7ff; text-decoration-color: #00d7ff\">None</span>, <span style=\"color: #00af00; text-decoration-color: #00af00\">14</span>, <span style=\"color: #00af00; text-decoration-color: #00af00\">14</span>, <span style=\"color: #00af00; text-decoration-color: #00af00\">64</span>)          │               <span style=\"color: #00af00; text-decoration-color: #00af00\">0</span> │\n",
              "├──────────────────────────────────────┼─────────────────────────────┼─────────────────┤\n",
              "│ flatten (<span style=\"color: #0087ff; text-decoration-color: #0087ff\">Flatten</span>)                    │ (<span style=\"color: #00d7ff; text-decoration-color: #00d7ff\">None</span>, <span style=\"color: #00af00; text-decoration-color: #00af00\">12544</span>)               │               <span style=\"color: #00af00; text-decoration-color: #00af00\">0</span> │\n",
              "├──────────────────────────────────────┼─────────────────────────────┼─────────────────┤\n",
              "│ dense (<span style=\"color: #0087ff; text-decoration-color: #0087ff\">Dense</span>)                        │ (<span style=\"color: #00d7ff; text-decoration-color: #00d7ff\">None</span>, <span style=\"color: #00af00; text-decoration-color: #00af00\">128</span>)                 │       <span style=\"color: #00af00; text-decoration-color: #00af00\">1,605,760</span> │\n",
              "├──────────────────────────────────────┼─────────────────────────────┼─────────────────┤\n",
              "│ dropout_2 (<span style=\"color: #0087ff; text-decoration-color: #0087ff\">Dropout</span>)                  │ (<span style=\"color: #00d7ff; text-decoration-color: #00d7ff\">None</span>, <span style=\"color: #00af00; text-decoration-color: #00af00\">128</span>)                 │               <span style=\"color: #00af00; text-decoration-color: #00af00\">0</span> │\n",
              "├──────────────────────────────────────┼─────────────────────────────┼─────────────────┤\n",
              "│ dense_1 (<span style=\"color: #0087ff; text-decoration-color: #0087ff\">Dense</span>)                      │ (<span style=\"color: #00d7ff; text-decoration-color: #00d7ff\">None</span>, <span style=\"color: #00af00; text-decoration-color: #00af00\">1</span>)                   │             <span style=\"color: #00af00; text-decoration-color: #00af00\">129</span> │\n",
              "└──────────────────────────────────────┴─────────────────────────────┴─────────────────┘\n",
              "</pre>\n"
            ]
          },
          "metadata": {}
        },
        {
          "output_type": "display_data",
          "data": {
            "text/plain": [
              "\u001b[1m Total params: \u001b[0m\u001b[38;5;34m1,625,281\u001b[0m (6.20 MB)\n"
            ],
            "text/html": [
              "<pre style=\"white-space:pre;overflow-x:auto;line-height:normal;font-family:Menlo,'DejaVu Sans Mono',consolas,'Courier New',monospace\"><span style=\"font-weight: bold\"> Total params: </span><span style=\"color: #00af00; text-decoration-color: #00af00\">1,625,281</span> (6.20 MB)\n",
              "</pre>\n"
            ]
          },
          "metadata": {}
        },
        {
          "output_type": "display_data",
          "data": {
            "text/plain": [
              "\u001b[1m Trainable params: \u001b[0m\u001b[38;5;34m1,625,281\u001b[0m (6.20 MB)\n"
            ],
            "text/html": [
              "<pre style=\"white-space:pre;overflow-x:auto;line-height:normal;font-family:Menlo,'DejaVu Sans Mono',consolas,'Courier New',monospace\"><span style=\"font-weight: bold\"> Trainable params: </span><span style=\"color: #00af00; text-decoration-color: #00af00\">1,625,281</span> (6.20 MB)\n",
              "</pre>\n"
            ]
          },
          "metadata": {}
        },
        {
          "output_type": "display_data",
          "data": {
            "text/plain": [
              "\u001b[1m Non-trainable params: \u001b[0m\u001b[38;5;34m0\u001b[0m (0.00 B)\n"
            ],
            "text/html": [
              "<pre style=\"white-space:pre;overflow-x:auto;line-height:normal;font-family:Menlo,'DejaVu Sans Mono',consolas,'Courier New',monospace\"><span style=\"font-weight: bold\"> Non-trainable params: </span><span style=\"color: #00af00; text-decoration-color: #00af00\">0</span> (0.00 B)\n",
              "</pre>\n"
            ]
          },
          "metadata": {}
        },
        {
          "output_type": "stream",
          "name": "stdout",
          "text": [
            "None\n"
          ]
        }
      ]
    },
    {
      "cell_type": "code",
      "source": [
        "from tensorflow.keras.callbacks import EarlyStopping\n",
        "\n",
        "# Define Early Stopping\n",
        "early_stopping = EarlyStopping(monitor='val_loss', patience=5, restore_best_weights=True)\n",
        "\n",
        "# Split Data Manually (80% Train, 20% Validation)\n",
        "split_index = int(0.8 * len(X))\n",
        "X_train, X_val = X[:split_index], X[split_index:]\n",
        "y_train, y_val = y[:split_index], y[split_index:]\n",
        "\n",
        "# Create Data Generators\n",
        "train_generator = datagen.flow(X_train, y_train, batch_size=32)\n",
        "val_generator = datagen.flow(X_val, y_val, batch_size=32)\n",
        "\n",
        "# Train Model\n",
        "history = model.fit(train_generator, validation_data=val_generator, epochs=50, callbacks=[early_stopping])\n"
      ],
      "metadata": {
        "colab": {
          "base_uri": "https://localhost:8080/"
        },
        "id": "kIJ4fCsK-_LD",
        "outputId": "fedf4d4e-30ba-4487-c785-b5ae201094c5"
      },
      "execution_count": null,
      "outputs": [
        {
          "output_type": "stream",
          "name": "stdout",
          "text": [
            "Epoch 1/50\n"
          ]
        },
        {
          "output_type": "stream",
          "name": "stderr",
          "text": [
            "/usr/local/lib/python3.11/dist-packages/keras/src/trainers/data_adapters/py_dataset_adapter.py:121: UserWarning: Your `PyDataset` class should call `super().__init__(**kwargs)` in its constructor. `**kwargs` can include `workers`, `use_multiprocessing`, `max_queue_size`. Do not pass these arguments to `fit()`, as they will be ignored.\n",
            "  self._warn_if_super_not_called()\n"
          ]
        },
        {
          "output_type": "stream",
          "name": "stdout",
          "text": [
            "\u001b[1m53/53\u001b[0m \u001b[32m━━━━━━━━━━━━━━━━━━━━\u001b[0m\u001b[37m\u001b[0m \u001b[1m16s\u001b[0m 232ms/step - accuracy: 0.9735 - loss: 0.2886 - val_accuracy: 1.0000 - val_loss: 0.1368\n",
            "Epoch 2/50\n",
            "\u001b[1m53/53\u001b[0m \u001b[32m━━━━━━━━━━━━━━━━━━━━\u001b[0m\u001b[37m\u001b[0m \u001b[1m13s\u001b[0m 244ms/step - accuracy: 1.0000 - loss: 0.1197 - val_accuracy: 1.0000 - val_loss: 0.0805\n",
            "Epoch 3/50\n",
            "\u001b[1m53/53\u001b[0m \u001b[32m━━━━━━━━━━━━━━━━━━━━\u001b[0m\u001b[37m\u001b[0m \u001b[1m13s\u001b[0m 247ms/step - accuracy: 1.0000 - loss: 0.0722 - val_accuracy: 1.0000 - val_loss: 0.0516\n",
            "Epoch 4/50\n",
            "\u001b[1m53/53\u001b[0m \u001b[32m━━━━━━━━━━━━━━━━━━━━\u001b[0m\u001b[37m\u001b[0m \u001b[1m13s\u001b[0m 246ms/step - accuracy: 1.0000 - loss: 0.0468 - val_accuracy: 1.0000 - val_loss: 0.0345\n",
            "Epoch 5/50\n",
            "\u001b[1m53/53\u001b[0m \u001b[32m━━━━━━━━━━━━━━━━━━━━\u001b[0m\u001b[37m\u001b[0m \u001b[1m13s\u001b[0m 246ms/step - accuracy: 1.0000 - loss: 0.0315 - val_accuracy: 1.0000 - val_loss: 0.0238\n",
            "Epoch 6/50\n",
            "\u001b[1m53/53\u001b[0m \u001b[32m━━━━━━━━━━━━━━━━━━━━\u001b[0m\u001b[37m\u001b[0m \u001b[1m13s\u001b[0m 248ms/step - accuracy: 1.0000 - loss: 0.0219 - val_accuracy: 1.0000 - val_loss: 0.0168\n",
            "Epoch 7/50\n",
            "\u001b[1m53/53\u001b[0m \u001b[32m━━━━━━━━━━━━━━━━━━━━\u001b[0m\u001b[37m\u001b[0m \u001b[1m20s\u001b[0m 232ms/step - accuracy: 1.0000 - loss: 0.0155 - val_accuracy: 1.0000 - val_loss: 0.0120\n",
            "Epoch 8/50\n",
            "\u001b[1m53/53\u001b[0m \u001b[32m━━━━━━━━━━━━━━━━━━━━\u001b[0m\u001b[37m\u001b[0m \u001b[1m21s\u001b[0m 243ms/step - accuracy: 1.0000 - loss: 0.0112 - val_accuracy: 1.0000 - val_loss: 0.0088\n",
            "Epoch 9/50\n",
            "\u001b[1m53/53\u001b[0m \u001b[32m━━━━━━━━━━━━━━━━━━━━\u001b[0m\u001b[37m\u001b[0m \u001b[1m13s\u001b[0m 243ms/step - accuracy: 1.0000 - loss: 0.0081 - val_accuracy: 1.0000 - val_loss: 0.0066\n",
            "Epoch 10/50\n",
            "\u001b[1m53/53\u001b[0m \u001b[32m━━━━━━━━━━━━━━━━━━━━\u001b[0m\u001b[37m\u001b[0m \u001b[1m13s\u001b[0m 243ms/step - accuracy: 1.0000 - loss: 0.0061 - val_accuracy: 1.0000 - val_loss: 0.0049\n",
            "Epoch 11/50\n",
            "\u001b[1m53/53\u001b[0m \u001b[32m━━━━━━━━━━━━━━━━━━━━\u001b[0m\u001b[37m\u001b[0m \u001b[1m13s\u001b[0m 253ms/step - accuracy: 1.0000 - loss: 0.0046 - val_accuracy: 1.0000 - val_loss: 0.0038\n",
            "Epoch 12/50\n",
            "\u001b[1m53/53\u001b[0m \u001b[32m━━━━━━━━━━━━━━━━━━━━\u001b[0m\u001b[37m\u001b[0m \u001b[1m13s\u001b[0m 247ms/step - accuracy: 1.0000 - loss: 0.0035 - val_accuracy: 1.0000 - val_loss: 0.0029\n",
            "Epoch 13/50\n",
            "\u001b[1m53/53\u001b[0m \u001b[32m━━━━━━━━━━━━━━━━━━━━\u001b[0m\u001b[37m\u001b[0m \u001b[1m12s\u001b[0m 230ms/step - accuracy: 1.0000 - loss: 0.0027 - val_accuracy: 1.0000 - val_loss: 0.0022\n",
            "Epoch 14/50\n",
            "\u001b[1m53/53\u001b[0m \u001b[32m━━━━━━━━━━━━━━━━━━━━\u001b[0m\u001b[37m\u001b[0m \u001b[1m12s\u001b[0m 223ms/step - accuracy: 1.0000 - loss: 0.0021 - val_accuracy: 1.0000 - val_loss: 0.0017\n",
            "Epoch 15/50\n",
            "\u001b[1m53/53\u001b[0m \u001b[32m━━━━━━━━━━━━━━━━━━━━\u001b[0m\u001b[37m\u001b[0m \u001b[1m13s\u001b[0m 239ms/step - accuracy: 1.0000 - loss: 0.0017 - val_accuracy: 1.0000 - val_loss: 0.0014\n",
            "Epoch 16/50\n",
            "\u001b[1m53/53\u001b[0m \u001b[32m━━━━━━━━━━━━━━━━━━━━\u001b[0m\u001b[37m\u001b[0m \u001b[1m13s\u001b[0m 243ms/step - accuracy: 1.0000 - loss: 0.0013 - val_accuracy: 1.0000 - val_loss: 0.0012\n",
            "Epoch 17/50\n",
            "\u001b[1m53/53\u001b[0m \u001b[32m━━━━━━━━━━━━━━━━━━━━\u001b[0m\u001b[37m\u001b[0m \u001b[1m13s\u001b[0m 241ms/step - accuracy: 1.0000 - loss: 0.0011 - val_accuracy: 1.0000 - val_loss: 8.9233e-04\n",
            "Epoch 18/50\n",
            "\u001b[1m53/53\u001b[0m \u001b[32m━━━━━━━━━━━━━━━━━━━━\u001b[0m\u001b[37m\u001b[0m \u001b[1m13s\u001b[0m 242ms/step - accuracy: 1.0000 - loss: 8.8757e-04 - val_accuracy: 1.0000 - val_loss: 7.9787e-04\n",
            "Epoch 19/50\n",
            "\u001b[1m53/53\u001b[0m \u001b[32m━━━━━━━━━━━━━━━━━━━━\u001b[0m\u001b[37m\u001b[0m \u001b[1m13s\u001b[0m 243ms/step - accuracy: 1.0000 - loss: 7.1759e-04 - val_accuracy: 1.0000 - val_loss: 6.0058e-04\n",
            "Epoch 20/50\n",
            "\u001b[1m53/53\u001b[0m \u001b[32m━━━━━━━━━━━━━━━━━━━━\u001b[0m\u001b[37m\u001b[0m \u001b[1m13s\u001b[0m 241ms/step - accuracy: 1.0000 - loss: 5.8346e-04 - val_accuracy: 1.0000 - val_loss: 4.7166e-04\n",
            "Epoch 21/50\n",
            "\u001b[1m53/53\u001b[0m \u001b[32m━━━━━━━━━━━━━━━━━━━━\u001b[0m\u001b[37m\u001b[0m \u001b[1m13s\u001b[0m 249ms/step - accuracy: 1.0000 - loss: 4.6489e-04 - val_accuracy: 1.0000 - val_loss: 4.6750e-04\n",
            "Epoch 22/50\n",
            "\u001b[1m53/53\u001b[0m \u001b[32m━━━━━━━━━━━━━━━━━━━━\u001b[0m\u001b[37m\u001b[0m \u001b[1m13s\u001b[0m 243ms/step - accuracy: 1.0000 - loss: 4.4347e-04 - val_accuracy: 1.0000 - val_loss: 3.6945e-04\n",
            "Epoch 23/50\n",
            "\u001b[1m53/53\u001b[0m \u001b[32m━━━━━━━━━━━━━━━━━━━━\u001b[0m\u001b[37m\u001b[0m \u001b[1m12s\u001b[0m 223ms/step - accuracy: 1.0000 - loss: 3.7409e-04 - val_accuracy: 1.0000 - val_loss: 2.8068e-04\n",
            "Epoch 24/50\n",
            "\u001b[1m53/53\u001b[0m \u001b[32m━━━━━━━━━━━━━━━━━━━━\u001b[0m\u001b[37m\u001b[0m \u001b[1m12s\u001b[0m 225ms/step - accuracy: 1.0000 - loss: 4.3404e-04 - val_accuracy: 1.0000 - val_loss: 4.2662e-04\n",
            "Epoch 25/50\n",
            "\u001b[1m53/53\u001b[0m \u001b[32m━━━━━━━━━━━━━━━━━━━━\u001b[0m\u001b[37m\u001b[0m \u001b[1m13s\u001b[0m 242ms/step - accuracy: 1.0000 - loss: 3.3510e-04 - val_accuracy: 1.0000 - val_loss: 1.9572e-04\n",
            "Epoch 26/50\n",
            "\u001b[1m53/53\u001b[0m \u001b[32m━━━━━━━━━━━━━━━━━━━━\u001b[0m\u001b[37m\u001b[0m \u001b[1m13s\u001b[0m 244ms/step - accuracy: 1.0000 - loss: 2.1071e-04 - val_accuracy: 1.0000 - val_loss: 1.6286e-04\n",
            "Epoch 27/50\n",
            "\u001b[1m53/53\u001b[0m \u001b[32m━━━━━━━━━━━━━━━━━━━━\u001b[0m\u001b[37m\u001b[0m \u001b[1m13s\u001b[0m 241ms/step - accuracy: 1.0000 - loss: 1.7785e-04 - val_accuracy: 1.0000 - val_loss: 2.9210e-04\n",
            "Epoch 28/50\n",
            "\u001b[1m53/53\u001b[0m \u001b[32m━━━━━━━━━━━━━━━━━━━━\u001b[0m\u001b[37m\u001b[0m \u001b[1m13s\u001b[0m 240ms/step - accuracy: 1.0000 - loss: 2.6168e-04 - val_accuracy: 1.0000 - val_loss: 1.6827e-04\n",
            "Epoch 29/50\n",
            "\u001b[1m53/53\u001b[0m \u001b[32m━━━━━━━━━━━━━━━━━━━━\u001b[0m\u001b[37m\u001b[0m \u001b[1m13s\u001b[0m 244ms/step - accuracy: 1.0000 - loss: 1.7423e-04 - val_accuracy: 1.0000 - val_loss: 9.9793e-05\n",
            "Epoch 30/50\n",
            "\u001b[1m53/53\u001b[0m \u001b[32m━━━━━━━━━━━━━━━━━━━━\u001b[0m\u001b[37m\u001b[0m \u001b[1m13s\u001b[0m 245ms/step - accuracy: 1.0000 - loss: 1.2463e-04 - val_accuracy: 1.0000 - val_loss: 7.2040e-05\n",
            "Epoch 31/50\n",
            "\u001b[1m53/53\u001b[0m \u001b[32m━━━━━━━━━━━━━━━━━━━━\u001b[0m\u001b[37m\u001b[0m \u001b[1m13s\u001b[0m 249ms/step - accuracy: 1.0000 - loss: 1.1227e-04 - val_accuracy: 1.0000 - val_loss: 8.2933e-05\n",
            "Epoch 32/50\n",
            "\u001b[1m53/53\u001b[0m \u001b[32m━━━━━━━━━━━━━━━━━━━━\u001b[0m\u001b[37m\u001b[0m \u001b[1m13s\u001b[0m 240ms/step - accuracy: 1.0000 - loss: 2.9315e-04 - val_accuracy: 1.0000 - val_loss: 6.4592e-05\n",
            "Epoch 33/50\n",
            "\u001b[1m53/53\u001b[0m \u001b[32m━━━━━━━━━━━━━━━━━━━━\u001b[0m\u001b[37m\u001b[0m \u001b[1m20s\u001b[0m 240ms/step - accuracy: 1.0000 - loss: 1.8114e-04 - val_accuracy: 1.0000 - val_loss: 7.3185e-04\n",
            "Epoch 34/50\n",
            "\u001b[1m53/53\u001b[0m \u001b[32m━━━━━━━━━━━━━━━━━━━━\u001b[0m\u001b[37m\u001b[0m \u001b[1m13s\u001b[0m 239ms/step - accuracy: 1.0000 - loss: 6.7001e-04 - val_accuracy: 1.0000 - val_loss: 3.9430e-04\n",
            "Epoch 35/50\n",
            "\u001b[1m53/53\u001b[0m \u001b[32m━━━━━━━━━━━━━━━━━━━━\u001b[0m\u001b[37m\u001b[0m \u001b[1m13s\u001b[0m 247ms/step - accuracy: 1.0000 - loss: 2.3189e-04 - val_accuracy: 1.0000 - val_loss: 7.6647e-05\n",
            "Epoch 36/50\n",
            "\u001b[1m53/53\u001b[0m \u001b[32m━━━━━━━━━━━━━━━━━━━━\u001b[0m\u001b[37m\u001b[0m \u001b[1m13s\u001b[0m 246ms/step - accuracy: 1.0000 - loss: 7.6808e-05 - val_accuracy: 1.0000 - val_loss: 1.0442e-04\n",
            "Epoch 37/50\n",
            "\u001b[1m53/53\u001b[0m \u001b[32m━━━━━━━━━━━━━━━━━━━━\u001b[0m\u001b[37m\u001b[0m \u001b[1m14s\u001b[0m 255ms/step - accuracy: 1.0000 - loss: 4.0584e-04 - val_accuracy: 1.0000 - val_loss: 1.2082e-04\n"
          ]
        }
      ]
    },
    {
      "cell_type": "code",
      "source": [
        "loss, accuracy = model.evaluate(val_generator)\n",
        "print(f\"Validation Accuracy: {accuracy * 100:.2f}%\")\n",
        "print(f\"Validation Loss: {loss:.4f}\")\n"
      ],
      "metadata": {
        "colab": {
          "base_uri": "https://localhost:8080/"
        },
        "id": "K0LF4CNDBKAx",
        "outputId": "7adfaed4-b95f-416a-d939-4475ec09b469"
      },
      "execution_count": null,
      "outputs": [
        {
          "output_type": "stream",
          "name": "stdout",
          "text": [
            "\u001b[1m14/14\u001b[0m \u001b[32m━━━━━━━━━━━━━━━━━━━━\u001b[0m\u001b[37m\u001b[0m \u001b[1m1s\u001b[0m 75ms/step - accuracy: 1.0000 - loss: 6.4592e-05\n",
            "Validation Accuracy: 100.00%\n",
            "Validation Loss: 0.0001\n"
          ]
        }
      ]
    },
    {
      "cell_type": "code",
      "source": [
        "import matplotlib.pyplot as plt\n",
        "\n",
        "plt.figure(figsize=(12, 4))\n",
        "\n",
        "# Accuracy Plot\n",
        "plt.subplot(1, 2, 1)\n",
        "plt.plot(history.history['accuracy'], label='Train Accuracy')\n",
        "plt.plot(history.history['val_accuracy'], label='Validation Accuracy')\n",
        "plt.legend()\n",
        "plt.title('Accuracy')\n",
        "\n",
        "# Loss Plot\n",
        "plt.subplot(1, 2, 2)\n",
        "plt.plot(history.history['loss'], label='Train Loss')\n",
        "plt.plot(history.history['val_loss'], label='Validation Loss')\n",
        "plt.legend()\n",
        "plt.title('Loss')\n",
        "\n",
        "plt.show()\n"
      ],
      "metadata": {
        "colab": {
          "base_uri": "https://localhost:8080/",
          "height": 391
        },
        "id": "EEK-kqOyBRkp",
        "outputId": "3e4073ed-abf1-4806-95de-9d21152543f0"
      },
      "execution_count": null,
      "outputs": [
        {
          "output_type": "display_data",
          "data": {
            "text/plain": [
              "<Figure size 1200x400 with 2 Axes>"
            ],
            "image/png": "[encoded data removed]"
          },
          "metadata": {}
        }
      ]
    },
    {
      "cell_type": "code",
      "source": [
        "import cv2\n",
        "import numpy as np\n",
        "\n",
        "def preprocess_image(image_path, img_size=(64, 64)):\n",
        "    img = cv2.imread(image_path)\n",
        "    img = cv2.cvtColor(img, cv2.COLOR_BGR2RGB)  # Convert to RGB\n",
        "    img = cv2.resize(img, img_size)  # Resize to match training size\n",
        "    img = img / 255.0  # Normalize\n",
        "    return np.expand_dims(img, axis=0)  # Add batch dimension\n",
        "\n",
        "# Provide an image path from your dataset\n",
        "test_image_path = \"/content/drive/MyDrive/criminal_dataset/B02982.jpg\"  # Change to any image\n",
        "\n",
        "# Preprocess and predict\n",
        "processed_img = preprocess_image(test_image_path)\n",
        "prediction = model.predict(processed_img)\n",
        "\n",
        "# Show Result\n",
        "print(f\"Prediction Score: {prediction[0][0]:.4f}\")\n",
        "if prediction[0][0] > 0.5:\n",
        "    print(\"Predicted: Criminal\")\n",
        "else:\n",
        "    print(\"Predicted: Non-Criminal\")\n"
      ],
      "metadata": {
        "colab": {
          "base_uri": "https://localhost:8080/"
        },
        "id": "OvE-KCpLBVWI",
        "outputId": "07cb9dff-e3d5-43dc-ddba-e52220632960"
      },
      "execution_count": null,
      "outputs": [
        {
          "output_type": "stream",
          "name": "stdout",
          "text": [
            "\u001b[1m1/1\u001b[0m \u001b[32m━━━━━━━━━━━━━━━━━━━━\u001b[0m\u001b[37m\u001b[0m \u001b[1m0s\u001b[0m 90ms/step\n",
            "Prediction Score: 1.0000\n",
            "Predicted: Criminal\n"
          ]
        }
      ]
    },
    {
      "cell_type": "code",
      "source": [
        "from sklearn.metrics import confusion_matrix\n",
        "import seaborn as sns\n",
        "import matplotlib.pyplot as plt\n",
        "import numpy as np\n",
        "\n",
        "# Get model predictions (threshold at 0.5 for binary classification)\n",
        "y_pred = (model.predict(X_val) > 0.5).astype(\"int32\")\n",
        "\n",
        "# Compute Confusion Matrix\n",
        "CM = confusion_matrix(y_val, y_pred)\n",
        "\n",
        "# Plot Confusion Matrix\n",
        "plt.figure(figsize=(5, 5))\n",
        "sns.heatmap(CM, annot=True, fmt=\"d\", cmap=\"Blues\", xticklabels=[\"Non-Criminal\", \"Criminal\"], yticklabels=[\"Non-Criminal\", \"Criminal\"])\n",
        "plt.xlabel(\"Predicted Label\")\n",
        "plt.ylabel(\"True Label\")\n",
        "plt.title(\"Confusion Matrix\")\n",
        "plt.show()\n"
      ],
      "metadata": {
        "colab": {
          "base_uri": "https://localhost:8080/",
          "height": 559
        },
        "id": "CSpRWuL4Bip2",
        "outputId": "77081f63-ebc3-4bfe-ce96-efc73cd5f4cb"
      },
      "execution_count": null,
      "outputs": [
        {
          "output_type": "stream",
          "name": "stdout",
          "text": [
            "\u001b[1m14/14\u001b[0m \u001b[32m━━━━━━━━━━━━━━━━━━━━\u001b[0m\u001b[37m\u001b[0m \u001b[1m2s\u001b[0m 89ms/step\n"
          ]
        },
        {
          "output_type": "stream",
          "name": "stderr",
          "text": [
            "/usr/local/lib/python3.11/dist-packages/sklearn/metrics/_classification.py:407: UserWarning: A single label was found in 'y_true' and 'y_pred'. For the confusion matrix to have the correct shape, use the 'labels' parameter to pass all known labels.\n",
            "  warnings.warn(\n"
          ]
        },
        {
          "output_type": "display_data",
          "data": {
            "text/plain": [
              "<Figure size 500x500 with 2 Axes>"
            ],
            "image/png": "[encoded data removed]"
          },
          "metadata": {}
        }
      ]
    },
    {
      "cell_type": "code",
      "source": [
        "print(\"Unique values in y_val:\", np.unique(y_val))\n",
        "print(\"Unique values in y_pred:\", np.unique(y_pred))\n"
      ],
      "metadata": {
        "colab": {
          "base_uri": "https://localhost:8080/"
        },
        "id": "bEGkcfmAB4yz",
        "outputId": "78728781-9bcc-447b-af8c-1d6cb35310f6"
      },
      "execution_count": null,
      "outputs": [
        {
          "output_type": "stream",
          "name": "stdout",
          "text": [
            "Unique values in y_val: [1.]\n",
            "Unique values in y_pred: [1]\n"
          ]
        }
      ]
    },
    {
      "cell_type": "code",
      "source": [
        "print(\"Train Set:\", np.unique(y_train, return_counts=True))\n",
        "print(\"Validation Set:\", np.unique(y_val, return_counts=True))\n"
      ],
      "metadata": {
        "colab": {
          "base_uri": "https://localhost:8080/"
        },
        "id": "Y8qawe0bB-7n",
        "outputId": "e8f44615-6813-4294-905d-8e7670a61d27"
      },
      "execution_count": null,
      "outputs": [
        {
          "output_type": "stream",
          "name": "stdout",
          "text": [
            "Train Set: (array([1.]), array([1694]))\n",
            "Validation Set: (array([1.]), array([424]))\n"
          ]
        }
      ]
    },
    {
      "cell_type": "code",
      "source": [
        "from sklearn.model_selection import train_test_split\n",
        "\n",
        "# Assuming X and y contain the full dataset\n",
        "X_train, X_val, y_train, y_val = train_test_split(X, y, test_size=0.2, stratify=y, random_state=42)\n"
      ],
      "metadata": {
        "id": "Mo7ECO_hCIqK"
      },
      "execution_count": null,
      "outputs": []
    },
    {
      "cell_type": "code",
      "source": [
        "y_pred = (model.predict(X_val) > 0.3).astype(\"int32\").flatten()  # Reduce from 0.5 to 0.3\n"
      ],
      "metadata": {
        "colab": {
          "base_uri": "https://localhost:8080/"
        },
        "id": "BfD1eNoSCLrD",
        "outputId": "48b31495-1ddc-4748-948d-9a234ec264e2"
      },
      "execution_count": null,
      "outputs": [
        {
          "output_type": "stream",
          "name": "stdout",
          "text": [
            "\u001b[1m14/14\u001b[0m \u001b[32m━━━━━━━━━━━━━━━━━━━━\u001b[0m\u001b[37m\u001b[0m \u001b[1m1s\u001b[0m 86ms/step\n"
          ]
        }
      ]
    },
    {
      "cell_type": "code",
      "source": [
        "import seaborn as sns\n",
        "import matplotlib.pyplot as plt\n",
        "from sklearn.metrics import confusion_matrix\n",
        "\n",
        "# Get model predictions\n",
        "y_pred = (model.predict(X_val) > 0.5).astype(\"int32\").flatten()\n",
        "\n",
        "# Compute Confusion Matrix\n",
        "CM = confusion_matrix(y_val, y_pred)\n",
        "\n",
        "# Plot Confusion Matrix\n",
        "plt.figure(figsize=(5, 5))\n",
        "sns.heatmap(CM, annot=True, fmt=\"d\", cmap=\"Blues\", xticklabels=[\"Non-Criminal\", \"Criminal\"], yticklabels=[\"Non-Criminal\", \"Criminal\"])\n",
        "plt.xlabel(\"Predicted Label\")\n",
        "plt.ylabel(\"True Label\")\n",
        "plt.title(\"Confusion Matrix\")\n",
        "plt.show()\n"
      ],
      "metadata": {
        "colab": {
          "base_uri": "https://localhost:8080/",
          "height": 559
        },
        "id": "CCyNbVYECR5j",
        "outputId": "bc225c65-569d-447d-ccee-d0ab521dd567"
      },
      "execution_count": null,
      "outputs": [
        {
          "output_type": "stream",
          "name": "stdout",
          "text": [
            "\u001b[1m14/14\u001b[0m \u001b[32m━━━━━━━━━━━━━━━━━━━━\u001b[0m\u001b[37m\u001b[0m \u001b[1m1s\u001b[0m 94ms/step\n"
          ]
        },
        {
          "output_type": "stream",
          "name": "stderr",
          "text": [
            "/usr/local/lib/python3.11/dist-packages/sklearn/metrics/_classification.py:407: UserWarning: A single label was found in 'y_true' and 'y_pred'. For the confusion matrix to have the correct shape, use the 'labels' parameter to pass all known labels.\n",
            "  warnings.warn(\n"
          ]
        },
        {
          "output_type": "display_data",
          "data": {
            "text/plain": [
              "<Figure size 500x500 with 2 Axes>"
            ],
            "image/png": "[encoded data removed]"
          },
          "metadata": {}
        }
      ]
    },
    {
      "cell_type": "code",
      "source": [
        "from tensorflow.keras.preprocessing.image import ImageDataGenerator\n",
        "\n",
        "datagen = ImageDataGenerator(\n",
        "    rotation_range=20,       # Rotate image up to 20 degrees\n",
        "    width_shift_range=0.2,   # Shift width by 20%\n",
        "    height_shift_range=0.2,  # Shift height by 20%\n",
        "    zoom_range=0.2,          # Zoom in/out\n",
        "    horizontal_flip=True,    # Flip images horizontally\n",
        "    brightness_range=[0.8, 1.2]  # Random brightness changes\n",
        ")\n"
      ],
      "metadata": {
        "id": "FLLX_4mHCyci"
      },
      "execution_count": null,
      "outputs": []
    },
    {
      "cell_type": "code",
      "source": [
        "from keras.applications import VGG16\n",
        "from keras.layers import Dense, Dropout, Flatten\n",
        "from keras.models import Model\n",
        "from keras import regularizers\n",
        "\n",
        "base_model = VGG16(weights='imagenet', include_top=False, input_shape=(224, 224, 3))\n",
        "\n",
        "# Add custom layers\n",
        "x = Flatten()(base_model.output)\n",
        "x = Dense(512, activation='relu', kernel_regularizer=regularizers.l2(0.01))(x)  # L2 Regularization\n",
        "x = Dropout(0.5)(x)  # Dropout to reduce overfitting\n",
        "x = Dense(256, activation='relu', kernel_regularizer=regularizers.l2(0.01))(x)\n",
        "x = Dropout(0.3)(x)\n",
        "x = Dense(128, activation='relu')(x)\n",
        "\n",
        "# Feature extraction model\n",
        "feature_extractor = Model(inputs=base_model.input, outputs=x)\n"
      ],
      "metadata": {
        "colab": {
          "base_uri": "https://localhost:8080/"
        },
        "id": "03BYk-cRC1n-",
        "outputId": "284d1d67-be12-4d88-8890-8315397f673f"
      },
      "execution_count": null,
      "outputs": [
        {
          "output_type": "stream",
          "name": "stdout",
          "text": [
            "Downloading data from https://storage.googleapis.com/tensorflow/keras-applications/vgg16/vgg16_weights_tf_dim_ordering_tf_kernels_notop.h5\n",
            "\u001b[1m58889256/58889256\u001b[0m \u001b[32m━━━━━━━━━━━━━━━━━━━━\u001b[0m\u001b[37m\u001b[0m \u001b[1m1s\u001b[0m 0us/step\n"
          ]
        }
      ]
    },
    {
      "cell_type": "code",
      "source": [
        "from keras.layers import BatchNormalization\n",
        "\n",
        "x = Flatten()(base_model.output)\n",
        "x = Dense(512, activation='relu', kernel_regularizer=regularizers.l2(0.01))(x)\n",
        "x = BatchNormalization()(x)  # Normalize activations\n",
        "x = Dropout(0.5)(x)\n",
        "x = Dense(256, activation='relu', kernel_regularizer=regularizers.l2(0.01))(x)\n",
        "x = BatchNormalization()(x)\n",
        "x = Dropout(0.3)(x)\n",
        "x = Dense(128, activation='relu')(x)\n",
        "\n",
        "feature_extractor = Model(inputs=base_model.input, outputs=x)\n"
      ],
      "metadata": {
        "id": "Yt3StgDFC5Bz"
      },
      "execution_count": null,
      "outputs": []
    },
    {
      "cell_type": "code",
      "source": [
        "def extract_features(image):\n",
        "    image = cv2.resize(image, (224, 224))  # Resize for CNN\n",
        "    image = np.expand_dims(image, axis=0)  # Add batch dimension\n",
        "    image = image / 255.0  # Normalize pixel values\n",
        "    return feature_extractor.predict(image).flatten()  # Extract feature vector\n"
      ],
      "metadata": {
        "id": "sJIpWPUWC7__"
      },
      "execution_count": null,
      "outputs": []
    }
  ]
}